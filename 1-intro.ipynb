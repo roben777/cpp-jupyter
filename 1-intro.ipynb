{
 "cells": [
  {
   "cell_type": "markdown",
   "metadata": {},
   "source": [
    "# CPSC 1620 - 1: C++ introduction, simple input/output\n",
    "\n",
    "Read and complete the practice and the challenge activities from your zybook from Chapter 1: Introduction to C++: practice activities are short and usually more simple. Complete them during the week. Challenge activities are more involved. You may complete them during the weekend.\n",
    "\n",
    "## Writing C++ programs\n",
    "\n",
    "1. **What is a program?** A set of instructions to solve a specific task by a computer. Ex, computing tasks: provide input, perform calculations, output result. In this course, you will learn to write *console applications* (user interacts by typing text and watching text output on a console/terminal window.\n",
    "\n",
    "2. **What is C++?** C++ is a programming language. We use it to describe the instructions in the computer program.\n",
    "\n",
    "3. **How do you write a \"C++ program\"?** Write C++ code in a text file. This text file is called the \"source code\". Provide the source code as input to a special program called \"compiler\" that will create an executable program out of your C++ source code. You can then run the executable just created.\n",
    "\n",
    "**Observation**: This is a Jupyter notebook, a document that contains executable code (C++, Python, Julia, R, etc) and data. It is a tool primarily used for data analysis. I use it to deliver the lectures.\n",
    "\n",
    "4. The C++ source code for a complete program is  little more complicated. With Jupyter, we can ignore the technicalities of a complete C++ program and focus on the C++ syntax in the beginning. You will write complete C++ programs in this course, shortly."
   ]
  },
  {
   "cell_type": "markdown",
   "metadata": {},
   "source": [
    "## Objectives\n",
    "1. Students will write C++ output instructions.\n",
    "2. Students will write simple C++ code for calculating simple expressions.\n",
    "3. Students will write C++ instructions that input data."
   ]
  },
  {
   "cell_type": "markdown",
   "metadata": {},
   "source": [
    "## Output instructions and calculations\n",
    "Program output is sent to the console (or terminal). \n",
    "\n",
    "**Syntax**\n",
    "\n",
    "````\n",
    "   cout << [expression];\n",
    "````\n",
    "\n",
    "`[expression]` can be:\n",
    "1. A value (in C++, this is also called a *literal*).\n",
    "2. A variable (we will see shortly what these are).\n",
    "3. A combination of literals, variables, and operators, composed in a way very similar to a mathematical expression.\n",
    "\n",
    "### Values and types\n",
    "In C++, any expression has a type. The type identifies what values the expression can take and what kinds of operations can be performed with the value. The following literals (values) are common in C++ programs.\n",
    "\n",
    "| Purpose | C++ type | Examples  |\n",
    "|:----------|:---------|:----------|\n",
    "| representing text | `string` | `\"hello\"`, `\"Good-bye\"` |\n",
    "| representing whole numbers | `int` | `2`, `-3` |\n",
    "| representing fractional numbers | `float` | `2.0`, `-3.17` |\n",
    "\n",
    "### Syntax for string values ###\n",
    "\n",
    "````\n",
    "\"[characters]\"\n",
    "````\n",
    "String values are always included between double quotes. Here are some examples: `\"Help 123\"`, `\"123\"`, `\".,$\"`."
   ]
  },
  {
   "cell_type": "markdown",
   "metadata": {},
   "source": [
    "### Examples ###"
   ]
  },
  {
   "cell_type": "markdown",
   "metadata": {},
   "source": [
    "Write a C++ instruction that outputs Hi mom!"
   ]
  },
  {
   "cell_type": "code",
   "execution_count": null,
   "metadata": {},
   "outputs": [],
   "source": [
    "cout << \"Hi mom!\";"
   ]
  },
  {
   "cell_type": "markdown",
   "metadata": {},
   "source": [
    "### Setup\n",
    "\n",
    "Notice that the output instructions cannot be executed. `cout` is not actually a C++ fundamental instruction. It is programmer defined. To execute it, first we need to tell the compiler (or the Jupyter kernel) to read the necessary definitions. Execute the cell below, then re-execute the code in the example:"
   ]
  },
  {
   "cell_type": "code",
   "execution_count": null,
   "metadata": {},
   "outputs": [],
   "source": [
    "#include <iostream>\n",
    "using namespace std;"
   ]
  },
  {
   "cell_type": "markdown",
   "metadata": {},
   "source": [
    "### Examples (c'ed) ###\n",
    "Output integer 4. Then output the square of 4."
   ]
  },
  {
   "cell_type": "code",
   "execution_count": null,
   "metadata": {},
   "outputs": [],
   "source": [
    "cout << 4;\n",
    "cout << 4*4;"
   ]
  },
  {
   "cell_type": "markdown",
   "metadata": {},
   "source": [
    "Notice that output to the console goes on the same line. If we want 16 to display **below** 4, we need to output a special **end of line** symbol called `endl`."
   ]
  },
  {
   "cell_type": "code",
   "execution_count": null,
   "metadata": {},
   "outputs": [],
   "source": [
    "cout << 4 << endl;\n",
    "cout << 4*4;"
   ]
  },
  {
   "cell_type": "markdown",
   "metadata": {},
   "source": [
    "Notice three things:\n",
    "1. We can output several expressions on a single `cout` statement! Simply separate the expressions by `<<` in the same way as we can add 3 or more values using the addition operator +.\n",
    "2. `endl` is not written between ` \"\" `. \n",
    "2. Multiplication is represented by symbol `*`. More precisely\n",
    "| Operation | C++ symbol | Example |\n",
    "|:----------|:----------:|:--------|\n",
    "| Addition  | `+`        | `2+3`     |\n",
    "| Subtraction | `-`      | `2-3`     |\n",
    "| Multiplication | `*`   | `2*3`     |\n",
    "| Division (fractional operands) | `/` | `13.0/4.0` is 3.25 |\n",
    "| Quotient (integer operands) |    `/` | `13 / 4` is 3 |\n",
    "| Remainder (integer operands) |   `%` | `13 % 4` is 1 |\n",
    "\n",
    "We can verify the examples from this table. Write and execute C++ code to output the value of the expressions in the examples."
   ]
  },
  {
   "cell_type": "code",
   "execution_count": null,
   "metadata": {},
   "outputs": [],
   "source": []
  },
  {
   "cell_type": "markdown",
   "metadata": {},
   "source": [
    "### Exercises: ###\n",
    "Write C++ code to output the message \"I like pizza.\" Then, below, let's write \"I dislike potatoes.\""
   ]
  },
  {
   "cell_type": "code",
   "execution_count": null,
   "metadata": {},
   "outputs": [],
   "source": []
  },
  {
   "cell_type": "markdown",
   "metadata": {},
   "source": [
    "Write C++ code to **calculate** $13^2$ and output that value.\n",
    "\n",
    "Output like: 13 * 13 = 169"
   ]
  },
  {
   "cell_type": "code",
   "execution_count": null,
   "metadata": {},
   "outputs": [],
   "source": []
  },
  {
   "cell_type": "markdown",
   "metadata": {},
   "source": [
    "### Recap output\n",
    "1. Use cout to indicate that information is \"pushed\" onto the console output. Use << to indicate the direction information flows, from the item to be poutput, to the console.\n",
    "2. In the same way we use + repeatedly to add more than 2 expressions, we use << repeatedly if we output more than one item. If the items we output are different (strings, followed by an expression that calculates something, etc), then we either use << repeatedly, or use another cout; \n",
    "3. If we need to output strings (text), use \"\". If we output numerical calculations, do not use \"\".\n",
    "4. Basic numerical operations: +, -, * (multiply), / (divide), % (mod), (). These are basic operations that the C++ compiler knows about. To use other operations like $a^2$, we must use libraries. Ex: ```#include <cmath>```."
   ]
  },
  {
   "cell_type": "markdown",
   "metadata": {},
   "source": [
    "# Input \n",
    "\n",
    "1. What does input do in a program? Input allows the user of your program to interact with the program by providing information. Usually, the information is used by the program to perform a calculation and then to output the result.\n",
    "2. How does the user input information in a C++ program? We can use a `cin` statement. The information provided is stored in a variable. We can use variables in expressions to calculate with the information stored in these variables.\n",
    "\n",
    "## Syntax for cin ##\n",
    "\n",
    "````\n",
    "cin >> [variable];\n",
    "````\n",
    "\n",
    "To use variables in programs, we must first **declare** them. A variable declaration specifies the *type* for the variable and the name.\n",
    "\n",
    "````\n",
    "[type] [name];\n",
    "````"
   ]
  },
  {
   "cell_type": "markdown",
   "metadata": {},
   "source": [
    "### Examples ###\n",
    "Input an integer from the user and output its double. Declare an integer variable called *number* and read into it."
   ]
  },
  {
   "cell_type": "code",
   "execution_count": null,
   "metadata": {},
   "outputs": [],
   "source": [
    "int number;\n",
    "cin >> number;\n",
    "cout << 2 * number;"
   ]
  },
  {
   "cell_type": "markdown",
   "metadata": {},
   "source": [
    "Input the numerator and the denominator of a fraction from the user and output the value of the fraction as a decimal. The code in the cell below has an error. Can you fix it?\n",
    "\n",
    "Also notice:\n",
    "1. We can declare two or more variables of the same type with a single declaration\n",
    "2. We can input two or more variables with the same `cin` statement. The user must type a space between the values."
   ]
  },
  {
   "cell_type": "code",
   "execution_count": null,
   "metadata": {},
   "outputs": [],
   "source": [
    "int num, denom;\n",
    "cin >> num >> denom;\n",
    "cout << num/denom;"
   ]
  },
  {
   "cell_type": "markdown",
   "metadata": {},
   "source": [
    "Write code that can compute the square of any integer (not larger than $2^{31}-1$). The user will input the number to be squared."
   ]
  },
  {
   "cell_type": "code",
   "execution_count": null,
   "metadata": {},
   "outputs": [],
   "source": [
    "// additional step: define variables first. Ex: x is a variable that holds integers\n",
    "int x;  // variable declaration \n",
    "cin >> x;\n",
    "// now compute the square of x and show it on the console\n",
    "cout << \"The square of \" << x << \" is \" << x*x << endl;  "
   ]
  },
  {
   "cell_type": "markdown",
   "metadata": {},
   "source": [
    "**Exercise**: add a second line of output in the cell above that outputs the same calculation but make it look like a line of a multiplication table (2 * 2 = 4)"
   ]
  },
  {
   "cell_type": "markdown",
   "metadata": {},
   "source": [
    "## Example\n",
    "\n",
    "Input from the user a name and then an age in years. Output the number of months, weeks, days, and hours for the person. Assume all years have 365 days.\n",
    "\n",
    "Format your output as follows: Jane, you are $x$ years, $y$ weeks, $z$ days, and $w$ hours old.\n",
    "\n",
    "Notice: type `string` is again programmer defined. To use it, we must include definitions from the `string` file."
   ]
  },
  {
   "cell_type": "code",
   "execution_count": null,
   "metadata": {},
   "outputs": [],
   "source": [
    "// A bit of setup is still needed\n",
    "#include <string>"
   ]
  },
  {
   "cell_type": "code",
   "execution_count": null,
   "metadata": {},
   "outputs": [],
   "source": [
    "string name;\n",
    "int age;\n",
    "cin >> name >> age;\n",
    "// continue"
   ]
  },
  {
   "cell_type": "markdown",
   "metadata": {},
   "source": [
    "### Recap - calculations and input\n",
    "1. To process input, we need variables to store the input.\n",
    "2. Variables are like boxes: we have a label (name of the variable) and dimensions for the box (type for the variable). Variables in C++ must be declared. \n",
    "3. Thus, to process input we: (a) declare variables and (b) input from console into the variable using cin.\n",
    "4. Variable declaration: ```type variable_name;```.\n",
    "5. Variable names: contain alpha characters (a-z, A-Z), _, digits (0-9). Must begin with alpha character or _.\n",
    "6. Good habit: give useful, meaningful names to the variables.\n",
    "7. Types: int (integer), char (character, which is actually an integer -128..127), variations on int and char (long, unsigned), float (fractional value, decimal) double (a fractional value with more precision), long double (fractional with even more precision), bool (boolean, true/false), string (text, messages but requires ```#include <string>```). A string is a sequence of characters (char).\n",
    "7. To input a value into a variable, use ```cin >> variable;```. We can have several variables input within the same cin statement.\n",
    "8. cin does its best to interpret the characters typed by the user and assign them to the variables provided in the cin statement, according to the types of these variables. When it cannot interpret input according to the type of the variable, it gives up (no further input takes place until the programmer deals with the errors in code)"
   ]
  },
  {
   "cell_type": "markdown",
   "metadata": {},
   "source": [
    "### Exercise\n",
    "1. Read the dimensions of a rectangular plot of land, in metres. Output the area, in m$^2$.\n",
    "2. Output also the area in ft$^2$.\n",
    "3. How about in hectares and acres?\n",
    "\n",
    "Definition: 1 ft = 0.3048 m; hectare = area of a 100m x 100m square; acre = 10 chains$^2$; 1 chain = 66 ft (Wikipedia)."
   ]
  },
  {
   "cell_type": "code",
   "execution_count": null,
   "metadata": {},
   "outputs": [],
   "source": []
  }
 ],
 "metadata": {
  "kernelspec": {
   "display_name": "C++17",
   "language": "C++17",
   "name": "xcpp17"
  },
  "language_info": {
   "codemirror_mode": "text/x-c++src",
   "file_extension": ".cpp",
   "mimetype": "text/x-c++src",
   "name": "c++",
   "version": "17"
  }
 },
 "nbformat": 4,
 "nbformat_minor": 4
}
