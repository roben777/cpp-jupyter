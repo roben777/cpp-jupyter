{
 "cells": [
  {
   "cell_type": "markdown",
   "metadata": {},
   "source": [
    "# CPSC 1620 - 1: Simple programs in C++, Input/Output\n",
    "\n",
    "## Objectives\n",
    "1. Discuss the course outline.$\\surd$\n",
    "2. Review the schedule. Students will identify deadlines for work.$\\surd$\n",
    "2. Review Practice Activities, Challenge Activities, and Labs from the textbook.$\\surd$\n",
    "3. Create a first C++ program, in Jupyter (used only during lectures by the instructor) ~~and as a standalone application. School lab accounts.~~\n",
    "\n",
    "## Writing C++ programs\n",
    "\n",
    "1. **What is a program?** A set of instructions to solve a specific task by a computer. Ex, computing tasks: provide input, perform calculations, output result.\n",
    "\n",
    "2. **What is C++?** C++ is a programming language. We use it to describe the instructions in the computer program.\n",
    "\n",
    "3. **How do you write a \"C++ standalone program\"?** Write C++ code in a text file. This text file is called the \"source code\". Provide the source code as input to a special program called \"compiler\" that will create an executable program out of your C++ source code. You can then run the executable just created.\n",
    "\n",
    "**Observation**: This is a Jupyter notebook, a document that contains executable code (C++, Python, Julia, R, etc) and data. It is a tool primarily used for data analysis. I use it to deliver the lectures."
   ]
  },
  {
   "cell_type": "markdown",
   "metadata": {},
   "source": [
    "## Objectives II\n",
    "1. Students will write C++ output instructions.$\\surd$\n",
    "2. Students will write simple C++ code for calculating simple expressions.$\\surd$\n",
    "3. Students will write C++ instructions that input data."
   ]
  },
  {
   "cell_type": "markdown",
   "metadata": {},
   "source": [
    "## Task 1\n",
    "Write C++ code to output a message, like \"Hi mom!\"."
   ]
  },
  {
   "cell_type": "code",
   "execution_count": 3,
   "metadata": {},
   "outputs": [
    {
     "name": "stdout",
     "output_type": "stream",
     "text": [
      "Hi mom!"
     ]
    }
   ],
   "source": [
    "cout << \"Hi mom!\";"
   ]
  },
  {
   "cell_type": "markdown",
   "metadata": {},
   "source": [
    "### Setup\n",
    "\n",
    "To run examples, first we include the necessary definitions."
   ]
  },
  {
   "cell_type": "code",
   "execution_count": 1,
   "metadata": {},
   "outputs": [],
   "source": [
    "#include <iostream>\n",
    "using namespace std;"
   ]
  },
  {
   "cell_type": "markdown",
   "metadata": {},
   "source": [
    "### Exercise:\n",
    "Write C++ code to output the message \"I like pizza.\" Then, below, let's write \"I dislike potatoes.\""
   ]
  },
  {
   "cell_type": "code",
   "execution_count": 3,
   "metadata": {},
   "outputs": [
    {
     "name": "stdout",
     "output_type": "stream",
     "text": [
      "I like pizza.\n",
      "I dislike potatoes."
     ]
    }
   ],
   "source": [
    "cout << \"I like pizza.\" << endl << \"I dislike potatoes.\";"
   ]
  },
  {
   "cell_type": "markdown",
   "metadata": {},
   "source": [
    "What is the role of ```\\n``` character? ```\\n``` stands for new line. It does the same thing as endl. It is a character, so it must be **part of the message**, enclosed between \"\"."
   ]
  },
  {
   "cell_type": "code",
   "execution_count": 11,
   "metadata": {},
   "outputs": [
    {
     "name": "stdout",
     "output_type": "stream",
     "text": [
      "I like pizza.\n",
      "I dislike potatoes."
     ]
    }
   ],
   "source": [
    "cout << \"I like pizza.\\nI dislike potatoes.\";"
   ]
  },
  {
   "cell_type": "markdown",
   "metadata": {},
   "source": [
    "## Task 2\n",
    "\n",
    "Write C++ code to calculate $5^2$ and output that value.\n",
    "\n",
    "Output like: 5 * 5 = 25"
   ]
  },
  {
   "cell_type": "code",
   "execution_count": 9,
   "metadata": {},
   "outputs": [
    {
     "name": "stdout",
     "output_type": "stream",
     "text": [
      "5 * 5 = 25\n"
     ]
    }
   ],
   "source": [
    "cout << \"5 * 5 = \"<< 5*5 << endl;"
   ]
  },
  {
   "cell_type": "markdown",
   "metadata": {},
   "source": [
    "### Recap output\n",
    "1. Use cout to indicate that information is \"pushed\" onto the console output. Use << to indicate the direction information flows, from the item to be poutput, to the console.\n",
    "2. In the same way we use + repeatedly to add more than 2 expressions, we use << repeatedly if we output more than one item. If the items we output are different (strings, followed by an expression that calculates something, etc), then we either use << repeatedly, or use another cout; \n",
    "3. If we need to output strings (text), use \"\". If we output numerical calculations, do not use \"\".\n",
    "4. Basic numerical operations: +, -, * (multiply), / (divide), % (mod), (). These are basic operations that the C++ compiler knows about. To use other operations like $a^2$, we must use libraries. Ex: ```#include <cmath>```."
   ]
  },
  {
   "cell_type": "markdown",
   "metadata": {},
   "source": [
    "## Input examples\n",
    "\n",
    "1. What does input do in a program? Input allows the user of your program to interact with the program. This interaction is done through variables.\n",
    "2. What can we input?"
   ]
  },
  {
   "cell_type": "markdown",
   "metadata": {},
   "source": [
    "## Task 3\n",
    "Write code that can compute the square of any integer (not larger than $2^{31}-1$). The user will input the number to be squared."
   ]
  },
  {
   "cell_type": "code",
   "execution_count": 5,
   "metadata": {},
   "outputs": [
    {
     "name": "stdout",
     "output_type": "stream",
     "text": [
      "9\n",
      "The square of 9 is 81\n",
      "9 * 9 = 81\n"
     ]
    }
   ],
   "source": [
    "// additional step: define variables first. Ex: x is a variable that holds integers\n",
    "int x;  // variable declaration \n",
    "cin >> x;\n",
    "// now compute the square of x and show it on the console\n",
    "cout << \"The square of \" << x << \" is \" << x*x << endl;  \n",
    "cout << x << \" * \" << x << \" = \" << x*x << endl;"
   ]
  },
  {
   "cell_type": "markdown",
   "metadata": {},
   "source": [
    "## Task 4\n",
    "where we introduce other types for variables.\n",
    "\n",
    "Input an age, in years, compute the number of months, weeks, days, hours, etc...\n",
    "Also input the name. Output like: Jane, you are $x$ years, $y$ days, $z$ hours, $w$ minutes old."
   ]
  },
  {
   "cell_type": "code",
   "execution_count": 16,
   "metadata": {},
   "outputs": [
    {
     "name": "stdout",
     "output_type": "stream",
     "text": [
      "13\n",
      " you are 156 months, 4745 days old.\n"
     ]
    }
   ],
   "source": [
    "int age;\n",
    "cin >> age;\n",
    "cout << \" you are \" << age * 12 << \" months, \"<< 365*age << \" days old.\" << endl;"
   ]
  },
  {
   "cell_type": "markdown",
   "metadata": {},
   "source": [
    "### Recap - calculations and input\n",
    "1. To process input, we need variables to store the input.\n",
    "2. Variables are like boxes: we have a label (name of the variable) and dimensions for the box (type for the variable). Variables in C++ must be declared. \n",
    "3. Thus, to process input we: (a) declare variables and (b) input from console into the variable using cin.\n",
    "4. Variable declaration: ```type variable_name;```.\n",
    "5. Variable names: contain alpha characters (a-z, A-Z), _, digits (0-9). Must begin with alpha character or _.\n",
    "6. Good habit: give useful, meaningful names to the variables.\n",
    "7. Types: int (integer), char (character, which is actually an integer -128..127), variations on int and char (long, unsigned), float (fractional value, decimal) double (a fractional value with more precision), long double (fractional with even more precision), bool (boolean, true/false), string (text, messages but requires ```#include <string>```). A string is a sequence of characters (char).\n",
    "7. To input a value into a variable, use ```cin >> variable;```. We can have several variables input within the same cin statement.\n",
    "8. cin does its best to interpret the characters typed by the user and assign them to the variables provided in the cin statement, according to the types of these variables. When it cannot interpret input according to the type of the variable, it gives up (no further input takes place until the programmer deals with the errors in code)"
   ]
  },
  {
   "cell_type": "code",
   "execution_count": 11,
   "metadata": {},
   "outputs": [
    {
     "name": "stdout",
     "output_type": "stream",
     "text": [
      "23t 55\n",
      "x = 23 y = 55 c = t\n"
     ]
    }
   ],
   "source": [
    "// input two integers x and y in one cin statement:\n",
    "int x,y;  // notice, we can also combine declaratiuons together (as long as the variables have the same type)\n",
    "char c;  // a variable that can hold a character\n",
    "cin >> x >> c >> y;\n",
    "cout << \"x = \" << x << \" y = \" << y << \" c = \" << c << endl;"
   ]
  },
  {
   "cell_type": "markdown",
   "metadata": {},
   "source": [
    "### Exercise\n",
    "1. Read the dimensions of a plot of land, in metres. Output the area, in m$^2$.\n",
    "2. Output also the area in ft$^2$.\n",
    "3. How about in hectares and acres?\n",
    "\n",
    "Definition: 1 ft = 0.3048 m; hectare = area of a 100m x 100m square; acre = 10 chains$^2$; 1 chain = 66 ft (Wikipedia)."
   ]
  },
  {
   "cell_type": "code",
   "execution_count": null,
   "metadata": {},
   "outputs": [],
   "source": []
  }
 ],
 "metadata": {
  "kernelspec": {
   "display_name": "C++17",
   "language": "C++17",
   "name": "xcpp17"
  },
  "language_info": {
   "codemirror_mode": "text/x-c++src",
   "file_extension": ".cpp",
   "mimetype": "text/x-c++src",
   "name": "c++",
   "version": "17"
  }
 },
 "nbformat": 4,
 "nbformat_minor": 4
}
