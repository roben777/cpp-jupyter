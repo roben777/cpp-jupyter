{
 "cells": [
  {
   "cell_type": "code",
   "execution_count": 1,
   "metadata": {},
   "outputs": [],
   "source": [
    "// setup cell\n",
    "#include <iostream>\n",
    "#include <iomanip>\n",
    "#include <sstream>\n",
    "#include <string>\n",
    "using namespace std;"
   ]
  },
  {
   "cell_type": "markdown",
   "metadata": {},
   "source": [
    "# Output formatting\n",
    "See Chapter 9 in your textbook.\n",
    "1. Fractional numbers :\n",
    "\n",
    "Manipulator | Effect\n",
    ":---: | :---:\n",
    "```fixed``` | floating point numbers shown in decimal notation; precision $p$ = nr of decimal digits \n",
    "```scientific``` | numbers shown as a mantissa $m$ between 1..9 and an exponent base 10; precision $p$ = nr of decimal digits for the mantissa \n",
    "```setprecision(p)``` | sets the precision\n",
    "default | if floating point number has more than $p$ digits, use ```scientific```, otherwise use ```fixed```\n",
    "```ostr.unsetf(ios::scientific)``` | removes ```scientific``` mode from output stream ```ostr```\n",
    "```ostr.unsetf(ios::fixed)``` | removes ```fixed``` mode from ```ostr```"
   ]
  },
  {
   "cell_type": "code",
   "execution_count": 3,
   "metadata": {},
   "outputs": [
    {
     "name": "stdout",
     "output_type": "stream",
     "text": [
      "2.34568e+08\n",
      "0.145624\n"
     ]
    }
   ],
   "source": [
    "// default behaviour (shifts automatically between fixed and scientific)\n",
    "cout << 234567899.0 << endl;\n",
    "cout << 0.14562378 << endl;"
   ]
  },
  {
   "cell_type": "code",
   "execution_count": 4,
   "metadata": {},
   "outputs": [
    {
     "name": "stdout",
     "output_type": "stream",
     "text": [
      "234567899.000000\n",
      "0.145624\n"
     ]
    }
   ],
   "source": [
    "cout << fixed;\n",
    "cout << 234567899.0 << endl;\n",
    "cout << 0.14562378 << endl;"
   ]
  },
  {
   "cell_type": "code",
   "execution_count": 2,
   "metadata": {},
   "outputs": [
    {
     "name": "stdout",
     "output_type": "stream",
     "text": [
      "234567899.00\n",
      "0.15\n"
     ]
    }
   ],
   "source": [
    "// output as currency\n",
    "cout << fixed << setprecision(2);\n",
    "cout << 234567899.0 << endl;\n",
    "cout << 0.14562378 << endl;"
   ]
  },
  {
   "cell_type": "code",
   "execution_count": 3,
   "metadata": {},
   "outputs": [
    {
     "name": "stdout",
     "output_type": "stream",
     "text": [
      "2.346e+08\n",
      "1.456e-01\n"
     ]
    }
   ],
   "source": [
    "cout << scientific << setprecision(3);\n",
    "cout << 234567899.0 << endl;\n",
    "cout << 0.14562378 << endl;"
   ]
  },
  {
   "cell_type": "markdown",
   "metadata": {},
   "source": [
    "2. Position and width: \n",
    "\n",
    "Manipulator | Effect \n",
    ":---: | :---:\n",
    "```setw(n)``` | outputs on a field $n$ characters wide; **temporary effect**: applies only to the next output operation\n",
    "```left``` | output left aligned in the field \n",
    "```right```| output right aligned in the field \n",
    "```setfill(c)``` | sets the fill character in the field to $c$"
   ]
  },
  {
   "cell_type": "code",
   "execution_count": 4,
   "metadata": {},
   "outputs": [
    {
     "name": "stdout",
     "output_type": "stream",
     "text": [
      "12345.00............\n",
      "12345678.00.........\n"
     ]
    }
   ],
   "source": [
    "cout << fixed << setprecision(2) << setfill('.') << left;\n",
    "cout << setw(20) << 12345.0 << endl;\n",
    "cout << setw(20) << 12345678.0 << endl;"
   ]
  },
  {
   "cell_type": "code",
   "execution_count": 9,
   "metadata": {},
   "outputs": [
    {
     "name": "stdout",
     "output_type": "stream",
     "text": [
      "............12345.00\n",
      ".........12345678.24\n"
     ]
    }
   ],
   "source": [
    "cout << fixed << setprecision(2) << setfill('.') << right;\n",
    "cout << setw(20) << 12345.0 << endl;\n",
    "cout << setw(20) << 12345678.2357762 << endl;"
   ]
  },
  {
   "cell_type": "code",
   "execution_count": 13,
   "metadata": {},
   "outputs": [
    {
     "name": "stdout",
     "output_type": "stream",
     "text": [
      "1234.786652\n",
      "1234.8\n",
      "1234.7866523000\n",
      "1234.7866523000\n"
     ]
    }
   ],
   "source": [
    "// note that setprecision(p) affects the OUTPUT. It does not \n",
    "//   change the value of any variables.\n",
    "// default behaviour: unset fixed manipulator!!!\n",
    "cout.unsetf(ios::fixed);  // make sure cout uses the default behaviour !?\n",
    "                          // possibly a bug in the Jupyter version...\n",
    "double fraction = 1234.7866523;\n",
    "cout << fraction << endl;\n",
    "cout << fixed << setprecision(1) << fraction << endl;\n",
    "cout << fixed << setprecision(10) << fraction << endl;\n",
    "cout << fraction << endl;"
   ]
  },
  {
   "cell_type": "markdown",
   "metadata": {},
   "source": [
    "## Example: receipt\n",
    "Print Item on a field 20 char wide max left aligned, price on 15 wide char max, right aligned. Input the information from console. Truncate the item if longer than 20 characters. The item is entered on the first line and may contain spaces, price on the second."
   ]
  },
  {
   "cell_type": "code",
   "execution_count": 19,
   "metadata": {},
   "outputs": [
    {
     "name": "stdout",
     "output_type": "stream",
     "text": [
      "Biscuits soft and juicy with strawberry flavour\n",
      "13.99\n",
      "Biscuits soft and juicy with strawberry flavour          13.99\n"
     ]
    }
   ],
   "source": [
    "string item;\n",
    "double price;\n",
    "getline(cin, item); // item on the first line\n",
    "cin >> price;  // price on the second line\n",
    "\n",
    "cout << setprecision(2);\n",
    "\n",
    "cout << left << setfill(' ') << setw(20) << item; // obs: since the fill character is a char not \n",
    "                                      // string, use ' '\n",
    "cout << right << setw(15) << price << endl;"
   ]
  },
  {
   "cell_type": "code",
   "execution_count": 20,
   "metadata": {},
   "outputs": [
    {
     "name": "stdout",
     "output_type": "stream",
     "text": [
      "Biscuits soft and juicy with strawberry flavour\n",
      "13.99\n",
      "Biscuits soft and ju          13.99\n"
     ]
    }
   ],
   "source": [
    "// the output will not truncate strings to fit the width of the field.\n",
    "// We need to explicitly truncate.\n",
    "string item;\n",
    "double price;\n",
    "getline(cin, item); // item on the first line\n",
    "cin >> price;  // price on the second line\n",
    "\n",
    "cout << setprecision(2);\n",
    "\n",
    "cout << left << setfill(' ') << setw(20) << item.substr(0,20); // obs: since the fill character is a char not \n",
    "                                      // string, use ' '\n",
    "cout << right << setw(15) << price << endl;"
   ]
  },
  {
   "cell_type": "code",
   "execution_count": 21,
   "metadata": {},
   "outputs": [
    {
     "name": "stdout",
     "output_type": "stream",
     "text": [
      "Biscuit\n",
      "12.99\n",
      "Biscuit                       12.99\n"
     ]
    }
   ],
   "source": [
    "// the output will not truncate strings to fit the width of the field.\n",
    "// We need to explicitly truncate.\n",
    "string item;\n",
    "double price;\n",
    "getline(cin, item); // item on the first line\n",
    "cin >> price;  // price on the second line\n",
    "\n",
    "cout << setprecision(2);\n",
    "\n",
    "cout << left << setfill(' ') << setw(20) << item.substr(0,20); // obs: since the fill character is a char not \n",
    "                                      // string, use ' '\n",
    "cout << right << setw(15) << price << endl;"
   ]
  },
  {
   "cell_type": "markdown",
   "metadata": {},
   "source": [
    "# Input\n",
    "1. Read a line of text containing: ```client name (possibly with spaces), amount```. The amount represents total purchase. Print out the name and number of loyalty points earned (points = amount spent * 100), name left aligned on width of 20, points right aligned, width 10.\n",
    "\n",
    "How can we read this data? The >> operator will stop on spaces.\n",
    "\n",
    "Strategy: read the entire line into a string, then we process the string to extract the name and amount.\n",
    "\n",
    "Function  | Action\n",
    ":---: | :---:\n",
    "```getline(strm, strng)``` | reads the entire line from stream ```strm``` into string ```strng```\n",
    "```strng.substr(i, l)``` | returns a substring from strng starting at index ```i``` and containing ```l``` chars\n",
    "```strng.find(s, start=0)``` | finds the first occurrence of string ```s``` into string ```strng```; starts from position ```start``` and return the index containing ```s``` (```string::npos``` if not found)\n",
    "```istringstream istr(strng);``` | declares an input stream taking input from string ```strng```\n",
    "```istr.str(strng)``` | makes ```istr``` take input from string ```strng```\n",
    "```istr.clear()``` | resets input stream ```istr```; extraction starts from beginning for stringstream, error status is cleared (eof, of fail, etc)\n",
    "```istr.eof()``` | returns true if extraction from input stream ```istr``` reached the end\n",
    "```istr.fail()``` | returns true if previous extraction from input stream ```istr``` has a logical error (not a value, etc)\n",
    "```istr.good()``` | returns true if the previous extraction was successful (no eof, fail, etc); seems not implemented in the C++ version for Jupyter"
   ]
  },
  {
   "cell_type": "markdown",
   "metadata": {},
   "source": [
    "**Examples**: "
   ]
  },
  {
   "cell_type": "code",
   "execution_count": 8,
   "metadata": {},
   "outputs": [
    {
     "name": "stdout",
     "output_type": "stream",
     "text": [
      "Text\n",
      ",\n",
      "2\n"
     ]
    }
   ],
   "source": [
    "string message=\"Text , 2\";\n",
    "string s;\n",
    "char c;\n",
    "int i;\n",
    "istringstream input(message); // input behaves now like cin. Use input with >>\n",
    "input >> s;\n",
    "input >> c;\n",
    "input >> i;\n",
    "cout << s << endl;\n",
    "cout << c << endl;\n",
    "cout << i << endl;"
   ]
  },
  {
   "cell_type": "markdown",
   "metadata": {},
   "source": [
    "### 1. Read the entire line into string"
   ]
  },
  {
   "cell_type": "code",
   "execution_count": 2,
   "metadata": {},
   "outputs": [
    {
     "name": "stdout",
     "output_type": "stream",
     "text": [
      "Mary Antoinette,   123.99\n"
     ]
    }
   ],
   "source": [
    "string line;\n",
    "getline(cin, line);"
   ]
  },
  {
   "cell_type": "markdown",
   "metadata": {},
   "source": [
    "### 2. Extract the name\n",
    "Extract a substring (prefix up to the comma)"
   ]
  },
  {
   "cell_type": "code",
   "execution_count": 3,
   "metadata": {
    "scrolled": true
   },
   "outputs": [
    {
     "name": "stdout",
     "output_type": "stream",
     "text": [
      "Mary Antoinette,   123.99\n",
      "15\n",
      "Mary Antoinette\n"
     ]
    }
   ],
   "source": [
    "// check if line variable is OK\n",
    "cout << line << endl;\n",
    "cout << line.find(\",\") << endl;\n",
    "cout << line.substr(0, line.find(\",\")) << endl;\n",
    "string name = line.substr(0, line.find(\",\"));"
   ]
  },
  {
   "cell_type": "markdown",
   "metadata": {},
   "source": [
    "### 3. Extract the amount\n",
    "1. Get a string containing the amount. Use substr.\n",
    "2. Use istringstream to extract the value.\n",
    "3. Output the number of points earned."
   ]
  },
  {
   "cell_type": "code",
   "execution_count": 5,
   "metadata": {},
   "outputs": [
    {
     "name": "stdout",
     "output_type": "stream",
     "text": [
      "   123.99\n",
      "12399\n"
     ]
    }
   ],
   "source": [
    "string rest = line.substr(line.find(\",\")+1);\n",
    "cout << rest << endl;\n",
    "istringstream input(rest);\n",
    "double amount;\n",
    "input >> amount;\n",
    "cout << amount * 100 << endl;"
   ]
  },
  {
   "cell_type": "markdown",
   "metadata": {},
   "source": [
    "### 4. Output the information as required.\n",
    "1. Name left aligned, width 20\n",
    "2. Points right aligned, width 10"
   ]
  },
  {
   "cell_type": "code",
   "execution_count": 6,
   "metadata": {},
   "outputs": [
    {
     "name": "stdout",
     "output_type": "stream",
     "text": [
      "Mary Antoinette          12399\n"
     ]
    }
   ],
   "source": [
    "cout << left << setw(20) << name << right << setw(10) << amount * 100 << endl;"
   ]
  },
  {
   "cell_type": "markdown",
   "metadata": {},
   "source": [
    "### Process errors\n",
    "What if the line has no comma?\n",
    "\n",
    "1. Before running extraction code above, check if comma is present. If not present, output error message, and don't process the line.\n",
    "2. The name can be longer than the space it should be printed. Truncate (see example)\n",
    "3. Amount is not a value. Two approaches: examine the string to make sure it contains digits OR extract from the stream and test if the extract operation failed using fail() or good() functions."
   ]
  },
  {
   "cell_type": "code",
   "execution_count": 9,
   "metadata": {},
   "outputs": [
    {
     "name": "stdout",
     "output_type": "stream",
     "text": [
      "Error, no comma\n"
     ]
    }
   ],
   "source": [
    "line = \"Mary Antoinnette  123.99\";\n",
    "if (line.find(\",\") == string::npos) {\n",
    "    cout << \"Error, no comma\" << endl;\n",
    "}"
   ]
  },
  {
   "cell_type": "code",
   "execution_count": 19,
   "metadata": {},
   "outputs": [
    {
     "name": "stdout",
     "output_type": "stream",
     "text": [
      " Homer\n",
      "Error, expected a value\n"
     ]
    }
   ],
   "source": [
    "line = \"Marge Simpson, Homer\";\n",
    "// Copied the processing of the numerical value\n",
    "string rest = line.substr(line.find(\",\")+1);\n",
    "cout << rest << endl;\n",
    "istringstream input(rest);\n",
    "double amount;\n",
    "input >> amount;\n",
    "// we test if the extract operation succeeded\n",
    "if (!input.fail()) {\n",
    "  cout << amount * 100 << endl;\n",
    "}\n",
    "else {\n",
    "    cout << \"Error, expected a value\" << endl;\n",
    "}"
   ]
  },
  {
   "cell_type": "code",
   "execution_count": null,
   "metadata": {},
   "outputs": [],
   "source": []
  }
 ],
 "metadata": {
  "kernelspec": {
   "display_name": "C++17",
   "language": "C++17",
   "name": "xcpp17"
  },
  "language_info": {
   "codemirror_mode": "text/x-c++src",
   "file_extension": ".cpp",
   "mimetype": "text/x-c++src",
   "name": "c++",
   "version": "17"
  }
 },
 "nbformat": 4,
 "nbformat_minor": 4
}
