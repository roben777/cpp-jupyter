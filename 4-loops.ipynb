{
 "cells": [
  {
   "cell_type": "code",
   "execution_count": 1,
   "metadata": {},
   "outputs": [],
   "source": [
    "// setup cell\n",
    "#include <iostream>\n",
    "#include <string>\n",
    "using namespace std;"
   ]
  },
  {
   "cell_type": "markdown",
   "metadata": {},
   "source": [
    "# Syntax of a while statement\n",
    "![while syntax](imgs/while-small.png)\n",
    "Evaluate expression. If true, execute statement then repeat, otherwise done. "
   ]
  },
  {
   "cell_type": "code",
   "execution_count": 2,
   "metadata": {},
   "outputs": [],
   "source": [
    "// output statement is not executed at all.\n",
    "while (false) {\n",
    "    cout << \"Hi \";\n",
    "}"
   ]
  },
  {
   "cell_type": "code",
   "execution_count": null,
   "metadata": {},
   "outputs": [],
   "source": [
    "// an infinite loop\n",
    "// no output visible because Jupyter provides the output when the cell finished running!\n",
    "while (true) {\n",
    "    cout << \"Hi \";\n",
    "}"
   ]
  },
  {
   "cell_type": "markdown",
   "metadata": {},
   "source": [
    "# Architecture of a while loop\n",
    "Before starting to write a loop statement, think about its design:\n",
    "![while design](imgs/while-design.png)"
   ]
  },
  {
   "cell_type": "markdown",
   "metadata": {},
   "source": [
    "## Example 1 - count to 100\n",
    "Write code to output 1 2 3 ... 100\n",
    "1. Identify the **control variable**: an integer variable, a counter.\n",
    "2. Determine the **initialization**: we assign value 0 (one possibility) or 1 (another suggestion) to the counter. Think of the initial state of the loop, the first execution of the loop body.\n",
    "3. Determine the **update** statement. Should change the control variable! Change counter by incrementing it by one.\n",
    "4. Determine the **boolean expression**: we have the \"end\" in mind. counter less than or equal to 10.\n",
    "5. Identify the **body** of the loop (the C++ statements): output the control (counter) variable."
   ]
  },
  {
   "cell_type": "code",
   "execution_count": 3,
   "metadata": {},
   "outputs": [
    {
     "name": "stdout",
     "output_type": "stream",
     "text": [
      "1 2 3 4 5 6 7 8 9 10 11 12 13 14 15 16 17 18 19 20 21 22 23 24 25 26 27 28 29 30 31 32 33 34 35 36 37 38 39 40 41 42 43 44 45 46 47 48 49 50 51 52 53 54 55 56 57 58 59 60 61 62 63 64 65 66 67 68 69 70 71 72 73 74 75 76 77 78 79 80 81 82 83 84 85 86 87 88 89 90 91 92 93 94 95 96 97 98 99 100 "
     ]
    }
   ],
   "source": [
    "int c;  // counter variable\n",
    "c = 1;  // look at the first execution of the body\n",
    "\n",
    "while (c<=100) {\n",
    "    cout << c << \" \";\n",
    "    c = c+1; // c+=1, c++, ++c,  c-=(-1)\n",
    "}"
   ]
  },
  {
   "cell_type": "markdown",
   "metadata": {},
   "source": [
    "## Example 2 - NASA count\n",
    "Write code to output 10 9 8 ... 1 0 Blast off!\n",
    "1. Identify the **control variable**: integer variable as counter.\n",
    "2. Determine the **initialization**: \n",
    "3. Determine the **update** statement. Should change the control variable!\n",
    "4. Determine the **boolean expression**: counter at zero should be the state of the last iteration. \n",
    "5. (or step 2.5) Identify the **body** of the loop (the C++ statements): print the counter.\n",
    "\n",
    "Outside of the loop, print \"blast off\"."
   ]
  },
  {
   "cell_type": "code",
   "execution_count": 5,
   "metadata": {},
   "outputs": [
    {
     "name": "stdout",
     "output_type": "stream",
     "text": [
      "10 9 8 7 6 5 4 3 2 1 0 Blast off!"
     ]
    }
   ],
   "source": [
    "// Count backwards\n",
    "int c; // control\n",
    "\n",
    "c = 10;\n",
    "while (c!=-1) {\n",
    "    cout << c << \" \";\n",
    "    c+=-1;  // c=c-1  OR  c--  OR  c-=1  OR  c+=-1\n",
    "}\n",
    "cout << \"Blast off!\";"
   ]
  },
  {
   "cell_type": "markdown",
   "metadata": {},
   "source": [
    "In Examples 1 and 2, we used the control variable to **count**. Another typical way to control a loop is to use a **sentinel** value or conditon: repeat until an expression reaches a specific value or condition.\n",
    "\n",
    "## Example 3 - sentinel controlled loop\n",
    "Read a sequence of integers. Count the number of even integers. The sequence ends with integer 0 (not part of the sequence). Value $0$ is the sentinel value!"
   ]
  },
  {
   "cell_type": "code",
   "execution_count": 8,
   "metadata": {},
   "outputs": [
    {
     "name": "stdout",
     "output_type": "stream",
     "text": [
      "1 2 3 4 5 6 7 8 9 0\n",
      "The number of even integers in the sequence is 4"
     ]
    }
   ],
   "source": [
    "// APPLY the procedure (steps 1-5) to design the code:\n",
    "// 1) control variable: integer variable that reads each integer from the sequence\n",
    "// 2.5) work to be done: count even integers. The control variable should have the first number \n",
    "// in the sequence during the first iteration of the loop\n",
    "// 2) intialize: read the first number\n",
    "// 3) the second iteration of the loop should have the next number in the sequence, so \n",
    "//    the update is to read the control variable from cin\n",
    "// 4) we stop when the number in the sequence equals 0, so that gives us the test expression \\\n",
    "//    in the loop.\n",
    "\n",
    "int seqn; // my control variable\n",
    "int nr_even = 0; // number of even integers (output)\n",
    "\n",
    "cin >> seqn;\n",
    "while (seqn != 0) {\n",
    "    // test if even\n",
    "    if (seqn % 2 == 0) {\n",
    "        nr_even++;\n",
    "    }\n",
    "    // update\n",
    "    cin >> seqn;\n",
    "}\n",
    "cout << \"The number of even integers in the sequence is \" << nr_even;"
   ]
  },
  {
   "cell_type": "markdown",
   "metadata": {},
   "source": [
    "## Example 4\n",
    "Read an integer $x$. If $x$ is even, divide by 2. If $x$ is odd, multiply by 3 and add 1. Repeat the process with the new number. **Claim**: the sequence converges to 1. Write a program to verify this claim.\n",
    "\n",
    "Example: 15, 46, 23, 70, 35, ..."
   ]
  },
  {
   "cell_type": "code",
   "execution_count": 2,
   "metadata": {},
   "outputs": [
    {
     "name": "stdout",
     "output_type": "stream",
     "text": [
      "15\n",
      "15, 46, 23, 70, 35, 106, 53, 160, 80, 40, 20, 10, 5, 16, 8, 4, 2, 1\n"
     ]
    }
   ],
   "source": [
    "int x;\n",
    "cin >> x;  // initialization\n",
    "\n",
    "// loop?\n",
    "// x is the control variable\n",
    "while (x != 1) {  \n",
    "    // output !!\n",
    "    cout << x << \", \";\n",
    "    if (x % 2 == 0) {\n",
    "        x = x/2;\n",
    "        // output? x\n",
    "    } else {\n",
    "        x = 3*x + 1;\n",
    "        // output? x\n",
    "    }\n",
    "    // output ??\n",
    "}\n",
    "// output !!\n",
    "cout << x << endl;"
   ]
  },
  {
   "cell_type": "markdown",
   "metadata": {},
   "source": [
    "Modify the code above so that the loop statement terminates even if the integer entered is negative. How about if we enter 0?"
   ]
  },
  {
   "cell_type": "markdown",
   "metadata": {},
   "source": [
    "# For loops\n",
    "![for syntax](imgs/for.png)\n"
   ]
  },
  {
   "cell_type": "markdown",
   "metadata": {},
   "source": [
    "## Example\n",
    "Rewrite Example 1 using a **for loop**."
   ]
  },
  {
   "cell_type": "code",
   "execution_count": 3,
   "metadata": {},
   "outputs": [
    {
     "name": "stdout",
     "output_type": "stream",
     "text": [
      "1 2 3 4 5 6 7 8 9 10 11 12 13 14 15 16 17 18 19 20 21 22 23 24 25 26 27 28 29 30 31 32 33 34 35 36 37 38 39 40 41 42 43 44 45 46 47 48 49 50 51 52 53 54 55 56 57 58 59 60 61 62 63 64 65 66 67 68 69 70 71 72 73 74 75 76 77 78 79 80 81 82 83 84 85 86 87 88 89 90 91 92 93 94 95 96 97 98 99 100 "
     ]
    }
   ],
   "source": [
    "for (int c=1; c<=100 ; c++) {\n",
    "    cout << c << \" \";\n",
    "}"
   ]
  },
  {
   "cell_type": "markdown",
   "metadata": {},
   "source": [
    "Design a for loop to count down from 100 to 1:"
   ]
  },
  {
   "cell_type": "code",
   "execution_count": 6,
   "metadata": {},
   "outputs": [
    {
     "name": "stdout",
     "output_type": "stream",
     "text": [
      "100 99 98 97 96 95 94 93 92 91 90 89 88 87 86 85 84 83 82 81 80 79 78 77 76 75 74 73 72 71 70 69 68 67 66 65 64 63 62 61 60 59 58 57 56 55 54 53 52 51 50 49 48 47 46 45 44 43 42 41 40 39 38 37 36 35 34 33 32 31 30 29 28 27 26 25 24 23 22 21 20 19 18 17 16 15 14 13 12 11 10 9 8 7 6 5 4 3 2 1 "
     ]
    }
   ],
   "source": [
    "for (int c=100, i=0; c>=1; c--) {\n",
    "    cout << c << \" \";\n",
    "}"
   ]
  },
  {
   "cell_type": "code",
   "execution_count": 2,
   "metadata": {},
   "outputs": [
    {
     "name": "stdout",
     "output_type": "stream",
     "text": [
      "0\n",
      "2\n"
     ]
    }
   ],
   "source": [
    "// what is the difference between ++c and c++? Same for --: --c, c--.\n",
    "int c = 0;\n",
    "cout << (c++) << endl;\n",
    "cout << (++c) << endl;"
   ]
  },
  {
   "cell_type": "markdown",
   "metadata": {},
   "source": [
    "## Example, copying strings character by character\n",
    "Given an input string, create first a copy of the input string and add characters to the copy, one by one.\n",
    "Then make a small change in the code to reverse the given string. Operator ```+``` concatenates strings."
   ]
  },
  {
   "cell_type": "code",
   "execution_count": 3,
   "metadata": {},
   "outputs": [
    {
     "name": "stdout",
     "output_type": "stream",
     "text": [
      "CPSC1620\n",
      "Output string: CPSC1620"
     ]
    }
   ],
   "source": [
    "string input_s;\n",
    "cin >> input_s;  // read up to space\n",
    "string output_s;  // empty if not initialized\n",
    "\n",
    "for (int i=0; i < input_s.size(); i++) {\n",
    "    // append the character at position i from input_s to output_s\n",
    "    // output_s.append(1, input_s.at(i));  // also can use + operator (convert char into a string...)\n",
    "    output_s = output_s + input_s.at(i);\n",
    "}\n",
    "\n",
    "cout << \"Output string: \" << output_s;"
   ]
  },
  {
   "cell_type": "code",
   "execution_count": 4,
   "metadata": {},
   "outputs": [
    {
     "name": "stdout",
     "output_type": "stream",
     "text": [
      "CPSC1620\n",
      "Output string: 0261CSPC"
     ]
    }
   ],
   "source": [
    "// copy the reverse\n",
    "// SOLUTION 1: count backwards\n",
    "string input_s;\n",
    "cin >> input_s;  // read up to space\n",
    "string output_s;  // empty if not initialized\n",
    "\n",
    "for (int i=input_s.size()-1; i >= 0; i--) {\n",
    "    // append the character at position i from input_s to output_s\n",
    "    // output_s.append(1, input_s.at(i));  // also can use + operator (convert char into a string...)\n",
    "    output_s = output_s + input_s.at(i);\n",
    "}\n",
    "\n",
    "cout << \"Output string: \" << output_s;"
   ]
  },
  {
   "cell_type": "code",
   "execution_count": 5,
   "metadata": {},
   "outputs": [
    {
     "name": "stdout",
     "output_type": "stream",
     "text": [
      "CPSC1620\n",
      "Output string: 0261CSPC"
     ]
    }
   ],
   "source": [
    "// SOLUTION 2: count forwards\n",
    "string input_s;\n",
    "cin >> input_s;  // read up to space\n",
    "string output_s;  // empty if not initialized\n",
    "\n",
    "for (int i=0; i < input_s.size(); i++) {\n",
    "    // append the character at position i from input_s to output_s\n",
    "    // output_s.append(1, input_s.at(i));  // also can use + operator (convert char into a string...)\n",
    "    output_s = input_s.at(i) + output_s;\n",
    "}\n",
    "\n",
    "cout << \"Output string: \" << output_s;"
   ]
  },
  {
   "cell_type": "markdown",
   "metadata": {},
   "source": [
    "# Nested loops\n",
    "For and while statements may contain any legal expression in their body (C++ statements). In particular, they may contain other while or for loops.\n",
    "## Example\n",
    "Write code to draw a 10x10 rectangle of '*':\n",
    "\n",
    "```\n",
    "****\n",
    "****\n",
    "****\n",
    "****\n",
    "```\n",
    "Approach: draw the rectangle line by line. \n",
    "1. draw a line of 10 ```*```."
   ]
  },
  {
   "cell_type": "code",
   "execution_count": 6,
   "metadata": {},
   "outputs": [
    {
     "name": "stdout",
     "output_type": "stream",
     "text": [
      "**********"
     ]
    }
   ],
   "source": [
    "for (int i=0; i<10; i++) {\n",
    "    cout << '*';\n",
    "}"
   ]
  },
  {
   "cell_type": "markdown",
   "metadata": {},
   "source": [
    "2. Now, draw 10 lines of 10 each! Careful not to use the same control variables in your nested loops."
   ]
  },
  {
   "cell_type": "code",
   "execution_count": 3,
   "metadata": {},
   "outputs": [
    {
     "name": "stdout",
     "output_type": "stream",
     "text": [
      "**********\n",
      "**********\n",
      "**********\n",
      "**********\n",
      "**********\n",
      "**********\n",
      "**********\n",
      "**********\n",
      "**********\n",
      "**********\n"
     ]
    }
   ],
   "source": [
    "// count the lines\n",
    "for (int c=0; c<10; ++c) {\n",
    "    // output a line; make sure we start a new line! Where should we put the endl?\n",
    "    // Position C\n",
    "    for (int i=0; i<10; i++) { // position B?\n",
    "        cout << '*'; // Position A?\n",
    "    }\n",
    "    // position D\n",
    "    cout << endl;\n",
    "}\n",
    "// Do you think it would work if we placed endl at C and not D?"
   ]
  },
  {
   "cell_type": "markdown",
   "metadata": {},
   "source": [
    "1. Change the code so that it draws a rectangle of height 10, width 20. (lines get longer, modify i)\n",
    "2. Change the code so that it draws a triangle of height 10.\n",
    "\n",
    "```\n",
    "*\n",
    "**\n",
    "***\n",
    "****\n",
    "```"
   ]
  },
  {
   "cell_type": "code",
   "execution_count": 4,
   "metadata": {},
   "outputs": [
    {
     "name": "stdout",
     "output_type": "stream",
     "text": [
      "********************\n",
      "********************\n",
      "********************\n",
      "********************\n",
      "********************\n",
      "********************\n",
      "********************\n",
      "********************\n",
      "********************\n",
      "********************\n"
     ]
    }
   ],
   "source": [
    "// height is 10\n",
    "for (int j=0; j<10; j++) {\n",
    "    // draw a line of 20 *\n",
    "    for (int i=0; i<20; i++) {\n",
    "        cout << '*';\n",
    "    }\n",
    "    cout << endl;\n",
    "}"
   ]
  },
  {
   "cell_type": "code",
   "execution_count": 5,
   "metadata": {},
   "outputs": [
    {
     "name": "stdout",
     "output_type": "stream",
     "text": [
      "*\n",
      "**\n",
      "***\n",
      "****\n",
      "*****\n",
      "******\n",
      "*******\n",
      "********\n",
      "*********\n",
      "**********\n"
     ]
    }
   ],
   "source": [
    "for (int j=1; j<=10; j++) {  // think that j counts lines\n",
    "    // draw a line of 10 *\n",
    "    for (int i=0; i<j; i++) {  // i counts the length of the line\n",
    "        cout << '*';\n",
    "    }\n",
    "    cout << endl;\n",
    "}"
   ]
  },
  {
   "cell_type": "markdown",
   "metadata": {},
   "source": [
    "**Homework**: Draw an inverted triangle that starts with the long line. See chapter 17 on zyBook, or develop as a standalone program.\n",
    "\n",
    "```\n",
    "****\n",
    "***\n",
    "**\n",
    "*\n",
    "```"
   ]
  },
  {
   "cell_type": "markdown",
   "metadata": {},
   "source": [
    "# Do-while loops\n",
    "![do-while syntax](imgs/dowhile2.png)\n",
    "1. The statement is executed at least once (while loop statement may run 0 times!).\n",
    "2. The boolean expression is tested **after** the statement is executed."
   ]
  },
  {
   "cell_type": "markdown",
   "metadata": {},
   "source": [
    "## Example - simplified battleship\n",
    "Given a 5 x 5 grid, computer places one 1x1 ship at a random location. The coordinates are in the range 1..5. Sink that ship!"
   ]
  },
  {
   "cell_type": "code",
   "execution_count": null,
   "metadata": {},
   "outputs": [],
   "source": [
    "#include <iostream>\n",
    "#include <cstdlib>\n",
    "#include <ctime>\n",
    "\n",
    "using namespace std;\n",
    "\n",
    "int shipx, shipy;\n",
    "int bombx, bomby;\n",
    "\n",
    "srand(time(NULL));\n",
    "shipx = rand()%5 + 1;\n",
    "shipy = rand()%5 + 1;\n",
    "\n",
    "// game logic here do-while works nicely here\n",
    "do {\n",
    "    // read the bomb coordinates\n",
    "\n",
    "} while ();"
   ]
  },
  {
   "cell_type": "code",
   "execution_count": null,
   "metadata": {},
   "outputs": [],
   "source": []
  }
 ],
 "metadata": {
  "kernelspec": {
   "display_name": "C++17",
   "language": "C++17",
   "name": "xcpp17"
  },
  "language_info": {
   "codemirror_mode": "text/x-c++src",
   "file_extension": ".cpp",
   "mimetype": "text/x-c++src",
   "name": "c++",
   "version": "17"
  }
 },
 "nbformat": 4,
 "nbformat_minor": 4
}
