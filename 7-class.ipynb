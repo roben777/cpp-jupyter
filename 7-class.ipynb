{
 "cells": [
  {
   "cell_type": "code",
   "execution_count": 1,
   "id": "73aa1652",
   "metadata": {},
   "outputs": [],
   "source": [
    "// setup cell\n",
    "#include <iostream>\n",
    "#include <string>\n",
    "using namespace std;"
   ]
  },
  {
   "cell_type": "markdown",
   "id": "c658d7f1",
   "metadata": {},
   "source": [
    "# Structures, classes\n",
    "## Reason 1. Grouping data\n",
    "Sometimes, our programs must handle pieces of data that are linked together. For example, name and GPA for a student. \n",
    "\n",
    "**Example:** Read the name and GPA of a student. Then output the name with the gpa."
   ]
  },
  {
   "cell_type": "code",
   "execution_count": 2,
   "id": "2b2b2b1f",
   "metadata": {},
   "outputs": [
    {
     "name": "stdout",
     "output_type": "stream",
     "text": [
      "Rob Bob\n",
      "3.2\n",
      "Rob Bob has a GPA of 3.2\n"
     ]
    }
   ],
   "source": [
    "string name;\n",
    "float gpa;\n",
    "getline(cin, name);\n",
    "cin >> gpa;\n",
    "cout << name << \" has a GPA of \" << gpa << endl;"
   ]
  },
  {
   "cell_type": "markdown",
   "id": "a79e70e7",
   "metadata": {},
   "source": [
    "**Example 2:** Read the name and GPA of 2 students, then print the information. Note that it is possible to incorrectly output the association between students and their corresponding GPA. The four variables used below are loosly associated, yet the information is tightly connected!"
   ]
  },
  {
   "cell_type": "code",
   "execution_count": 3,
   "id": "72e428fe",
   "metadata": {},
   "outputs": [
    {
     "name": "stdout",
     "output_type": "stream",
     "text": [
      "Rob Bob\n",
      "3.2\n",
      "Donald D\n",
      "4.0\n",
      "Rob Bob has a GPA of 4\n",
      "Donald D has a GPA of 3.2\n"
     ]
    }
   ],
   "source": [
    "string name, name2, g, g2;\n",
    "float gpa, gpa2;\n",
    "getline(cin, name);\n",
    "getline(cin, g);  // getline and >> don't mix well\n",
    "gpa = stod(g);  \n",
    "getline(cin, name2);\n",
    "getline(cin, g2);\n",
    "gpa2 = stod(g2);\n",
    "cout << name << \" has a GPA of \" << gpa2 << endl;\n",
    "cout << name2 << \" has a GPA of \" << gpa << endl;"
   ]
  },
  {
   "cell_type": "markdown",
   "id": "575232e6",
   "metadata": {},
   "source": [
    "To avoid such an error, C++ has the user defined type struct (or class)."
   ]
  },
  {
   "cell_type": "markdown",
   "id": "4d93cc70",
   "metadata": {},
   "source": [
    "## Syntax of struct\n",
    "``` struct name_of_struct {\n",
    "  variable declaration 1;\n",
    "  variable declaration 2;\n",
    "  ...\n",
    "  }```\n",
    "  \n",
    "  Note that the above instruction does not create a variable, it only defines a new type of data. This new type creates a tightly associated set of variables (member variables). Struct is like a club. We have members (listed between {})"
   ]
  },
  {
   "cell_type": "code",
   "execution_count": 4,
   "id": "516cc1c7",
   "metadata": {},
   "outputs": [],
   "source": [
    "struct student {\n",
    "    string name;\n",
    "    float gpa;\n",
    "}"
   ]
  },
  {
   "cell_type": "markdown",
   "id": "9e7859a8",
   "metadata": {},
   "source": [
    "## Struct variables\n",
    "To use the struct, we must create a variable for it. We can access the name and gpa using operator ```.```. "
   ]
  },
  {
   "cell_type": "code",
   "execution_count": 5,
   "id": "2c9adb18",
   "metadata": {},
   "outputs": [
    {
     "name": "stdout",
     "output_type": "stream",
     "text": [
      "Rob Bob\n",
      "3.2\n",
      "Rob Bob has a GPA of 3.2\n"
     ]
    }
   ],
   "source": [
    "student s;\n",
    "// initialize s (by initializing its members)\n",
    "// s.name = \"Rob Bob\";\n",
    "getline(cin, s.name);\n",
    "string g;\n",
    "getline(cin, g);\n",
    "s.gpa = stod(g);\n",
    "// output\n",
    "cout << s.name << \" has a GPA of \" << s.gpa << endl;"
   ]
  },
  {
   "cell_type": "markdown",
   "id": "d3f73b85",
   "metadata": {},
   "source": [
    "Extend this code to the two student example."
   ]
  },
  {
   "cell_type": "code",
   "execution_count": 6,
   "id": "a67a8b9f",
   "metadata": {},
   "outputs": [
    {
     "name": "stdout",
     "output_type": "stream",
     "text": [
      "Rob Bob\n",
      "3.2\n",
      "Donald D\n",
      "4.0\n",
      "Rob Bob has a GPA of 3.2\n",
      "Donald D has a GPA of 3.2\n"
     ]
    },
    {
     "data": {
      "text/plain": [
       "@0x7f00247feb60"
      ]
     },
     "execution_count": 6,
     "metadata": {},
     "output_type": "execute_result"
    }
   ],
   "source": [
    "student s, s2;\n",
    "// initialize s (by initializing its members)\n",
    "// s.name = \"Rob Bob\";\n",
    "getline(cin, s.name);\n",
    "string g;\n",
    "getline(cin, g);\n",
    "s.gpa = stod(g);\n",
    "\n",
    "// read the second student\n",
    "getline(cin, s2.name);\n",
    "getline(cin, g);\n",
    "s2.gpa = stod(g);\n",
    "\n",
    "// output\n",
    "cout << s.name << \" has a GPA of \" << s.gpa << endl;\n",
    "cout << s2.name << \" has a GPA of \" << s.gpa << endl; // still have a problem"
   ]
  },
  {
   "cell_type": "markdown",
   "id": "28015b2b",
   "metadata": {},
   "source": [
    "## What C++ items can we associate within a struct?\n",
    "1. Any valid variable declarations.\n",
    "2. Any struct variables.\n",
    "3. **Functions**.\n",
    "\n",
    "For example, suppose we want to define a function that prints out the information about a student. It makes sense to associate it with the other members of the struct."
   ]
  },
  {
   "cell_type": "code",
   "execution_count": 2,
   "id": "5d6c260d",
   "metadata": {},
   "outputs": [],
   "source": [
    "struct student {\n",
    "    // member variables\n",
    "    string name;\n",
    "    float gpa;\n",
    "    \n",
    "    // member functions\n",
    "    // print the information for the student\n",
    "    void print() {\n",
    "        cout << name << \" has a GPA of \" << gpa << endl;\n",
    "    }\n",
    "}"
   ]
  },
  {
   "cell_type": "code",
   "execution_count": 3,
   "id": "9605229d",
   "metadata": {},
   "outputs": [
    {
     "name": "stdout",
     "output_type": "stream",
     "text": [
      "Rob Bob\n",
      "3.2\n",
      "Donald D\n",
      "4.0\n",
      "Rob Bob has a GPA of 3.2\n",
      "Donald D has a GPA of 4\n"
     ]
    }
   ],
   "source": [
    "student s, s2;\n",
    "// initialize students by initializing its members\n",
    "getline(cin, s.name);\n",
    "string g;\n",
    "getline(cin, g);\n",
    "s.gpa = stod(g);\n",
    "\n",
    "// read the second student\n",
    "getline(cin, s2.name);\n",
    "getline(cin, g);\n",
    "s2.gpa = stod(g);\n",
    "\n",
    "// use the same . notation to access member functions\n",
    "s.print();\n",
    "s2.print();"
   ]
  },
  {
   "cell_type": "markdown",
   "id": "1c4e3d17",
   "metadata": {},
   "source": [
    "## Classes and information hiding\n",
    "For example, we can still program the output using the first method and still introduce logical errors in the program. But suppose there is a way to restrict the use of member variables in the direct way illustrated (```s.name``` and ```s.gpa```).\n",
    "\n",
    "**private** member access: any declarations (functions or variables) that follow the ```private:``` label can ONLY be accessed from within member functions. We are forbidden to access the private members via the objects (variables)."
   ]
  },
  {
   "cell_type": "code",
   "execution_count": 5,
   "id": "2cd2c3ba",
   "metadata": {},
   "outputs": [],
   "source": [
    "struct student {\n",
    "    // member variables\n",
    "    private:\n",
    "    string name;\n",
    "    float gpa;\n",
    "    \n",
    "    public:\n",
    "    // member functions\n",
    "    // print the information for the student\n",
    "    void print() {\n",
    "        cout << name << \" has a GPA of \" << gpa << endl;\n",
    "    }\n",
    "    \n",
    "    // read data from cin\n",
    "    void input() {\n",
    "        getline(cin, name);\n",
    "        string g;\n",
    "        getline(cin, g);\n",
    "        gpa = stod(g);\n",
    "    }\n",
    "}"
   ]
  },
  {
   "cell_type": "code",
   "execution_count": 6,
   "id": "7a5f611b",
   "metadata": {},
   "outputs": [
    {
     "name": "stdout",
     "output_type": "stream",
     "text": [
      "Rob Bob\n",
      "2.9\n",
      "Dana K\n",
      "3.6\n",
      "Rob Bob has a GPA of 2.9\n",
      "Dana K has a GPA of 3.6\n"
     ]
    }
   ],
   "source": [
    "student s, s2;\n",
    "// how to initialize? \n",
    "s.input();\n",
    "s2.input();\n",
    "s.print();\n",
    "s2.print();"
   ]
  },
  {
   "cell_type": "markdown",
   "id": "386960a2",
   "metadata": {},
   "source": [
    "What about classes? Why do we call ```struct``` a class? We can define the student *class* using the class keyword. The members of classes defined with **class** are by default **private**, while the members of classes defined with **struct** are public."
   ]
  },
  {
   "cell_type": "code",
   "execution_count": 7,
   "id": "3b44ffff",
   "metadata": {},
   "outputs": [],
   "source": [
    "class student {\n",
    "    // member variables\n",
    "    string name;\n",
    "    float gpa;\n",
    "    \n",
    "    public:\n",
    "    // member functions\n",
    "    // print the information for the student\n",
    "    void print() {\n",
    "        cout << name << \" has a GPA of \" << gpa << endl;\n",
    "    }\n",
    "    \n",
    "    // read data from cin\n",
    "    void input() {\n",
    "        getline(cin, name);\n",
    "        string g;\n",
    "        getline(cin, g);\n",
    "        gpa = stod(g);\n",
    "    }\n",
    "}"
   ]
  },
  {
   "cell_type": "code",
   "execution_count": 8,
   "id": "766bb70e",
   "metadata": {},
   "outputs": [
    {
     "name": "stdout",
     "output_type": "stream",
     "text": [
      "Anna B\n",
      "3.9\n",
      "Dorian D\n",
      "3.7\n",
      "Anna B has a GPA of 3.9\n",
      "Dorian D has a GPA of 3.7\n"
     ]
    }
   ],
   "source": [
    "student s, s2;\n",
    "// how to initialize? \n",
    "s.input();\n",
    "s2.input();\n",
    "s.print();\n",
    "s2.print();"
   ]
  },
  {
   "cell_type": "markdown",
   "id": "346ed6cd",
   "metadata": {},
   "source": [
    "Suppose we want to change the student data structure inside the struct. Suppose we want to replace ```name``` by first and last names. A few things need to happen:\n",
    "1. We change the variables inside the class.\n",
    "2. We change any code that uses the class members name and replace it with first and/or last members. Note that, since a type such as ```student``` can be used in many places in the code, this step can be quite expensive. \n",
    "3. We chage the code for the print function.\n",
    "Wouldn't it be nice if we only had to change the function ```print``` and ```input``` inside the struct?"
   ]
  },
  {
   "cell_type": "markdown",
   "id": "e000f5d8",
   "metadata": {},
   "source": [
    "**Homework** Change the definition of class student so that we have separate first and last names for the student. Modify the body of functions print and input. Check that any other code we wrote in the previous cell, automatically works."
   ]
  },
  {
   "cell_type": "markdown",
   "id": "f8b5bd0a",
   "metadata": {},
   "source": [
    "## Initializing objects (variables of the type defined by a class)\n",
    "We saw that classes can be quite complex. In cpsc1620 and 2620 we consider classes as a data type (ADT or abstract data type), so the question is how should objects be initialized? The initialization can be more complex and this requires executing code.\n",
    "\n",
    "**Constructor**: is a special member function that is called either automatically when declaring an object, or explicitly by providing initialization arguments similar to the arguments of a function call. It has a special name (the name of the class) and it has *no return type*."
   ]
  },
  {
   "cell_type": "code",
   "execution_count": 2,
   "id": "1fdc4905",
   "metadata": {},
   "outputs": [],
   "source": [
    "class student {\n",
    "    // member variables\n",
    "    string name;\n",
    "    float gpa;\n",
    "    \n",
    "    public:\n",
    "    // default constructor (no arguments)\n",
    "    student() {\n",
    "        cout << \"Default constructor\" << endl;\n",
    "        gpa=4;\n",
    "        name=\"No student\";\n",
    "    }\n",
    "    // member functions\n",
    "    // print the information for the student\n",
    "    void print() {\n",
    "        cout << name << \" has a GPA of \" << gpa << endl;\n",
    "    }\n",
    "    \n",
    "    // read data from cin\n",
    "    void input() {\n",
    "        getline(cin, name);\n",
    "        string g;\n",
    "        getline(cin, g);\n",
    "        gpa = stod(g);\n",
    "    }\n",
    "}"
   ]
  },
  {
   "cell_type": "code",
   "execution_count": 4,
   "id": "1e73a396",
   "metadata": {},
   "outputs": [
    {
     "name": "stdout",
     "output_type": "stream",
     "text": [
      "Default constructor\n",
      "Default constructor\n",
      "No student has a GPA of 4\n"
     ]
    }
   ],
   "source": [
    "student s,s2; // default constructor is called\n",
    "s.print();"
   ]
  },
  {
   "cell_type": "markdown",
   "id": "0adcf005",
   "metadata": {},
   "source": [
    "- default constructor is called when we create an object and we want to initialize it to \"default\"\n",
    "- we can also explicitly initialize an object to values that we can specify as arguments to the constructor."
   ]
  },
  {
   "cell_type": "code",
   "execution_count": 5,
   "id": "d94a2c84",
   "metadata": {},
   "outputs": [],
   "source": [
    "class student {\n",
    "    // member variables\n",
    "    string name;\n",
    "    float gpa;\n",
    "    \n",
    "    public:\n",
    "    // default constructor (no arguments)\n",
    "    student() {\n",
    "        cout << \"Default constructor\" << endl;\n",
    "        gpa=4;\n",
    "        name=\"No student\";\n",
    "    }\n",
    "    \n",
    "    // initialize a student object with namen n and gpa g\n",
    "    student(string n, double g) {\n",
    "        cout << \"Initializing constructor\" << endl;\n",
    "        gpa = g;\n",
    "        name = n;\n",
    "    }\n",
    "        \n",
    "    // member functions\n",
    "    // print the information for the student\n",
    "    void print() {\n",
    "        cout << name << \" has a GPA of \" << gpa << endl;\n",
    "    }\n",
    "    \n",
    "    // read data from cin\n",
    "    void input() {\n",
    "        getline(cin, name);\n",
    "        string g;\n",
    "        getline(cin, g);\n",
    "        gpa = stod(g);\n",
    "    }\n",
    "}"
   ]
  },
  {
   "cell_type": "code",
   "execution_count": 6,
   "id": "6c2309b7",
   "metadata": {},
   "outputs": [
    {
     "name": "stdout",
     "output_type": "stream",
     "text": [
      "Default constructor\n",
      "Initializing constructor\n",
      "s:\n",
      "No student has a GPA of 4\n",
      "s2:\n",
      "Don has a GPA of 2.5\n"
     ]
    }
   ],
   "source": [
    "student s;\n",
    "student s2(\"Don\", 2.5);\n",
    "cout << \"s:\" << endl;\n",
    "s.print();\n",
    "cout << \"s2:\" << endl;\n",
    "s2.print();"
   ]
  },
  {
   "cell_type": "markdown",
   "id": "35243d8e",
   "metadata": {},
   "source": [
    "## Defining class code in separate files\n",
    "Let us split the student class definition in two files. A header file that can be included in any piece of code that needs the student object. The header contains only the declaration of the class (which are the member variables and functions). The implementation file contains the code for the member functions."
   ]
  },
  {
   "cell_type": "code",
   "execution_count": 6,
   "id": "9be0d938",
   "metadata": {},
   "outputs": [],
   "source": [
    "// The header file. Only the declaration! student.h\n",
    "class student {\n",
    "    // member variables\n",
    "    string name;\n",
    "    float gpa;\n",
    "    \n",
    "    public:\n",
    "    // default constructor (no arguments)\n",
    "    student();\n",
    "    \n",
    "    // initialize a student object with namen n and gpa g\n",
    "    student(string n, double g);\n",
    "        \n",
    "    // member functions\n",
    "    // print the information for the student\n",
    "    void print();\n",
    "    \n",
    "    // read data from cin\n",
    "    void input();\n",
    "};"
   ]
  },
  {
   "cell_type": "code",
   "execution_count": 8,
   "id": "4f052999",
   "metadata": {},
   "outputs": [
    {
     "name": "stderr",
     "output_type": "stream",
     "text": [
      "IncrementalExecutor::executeFunction: symbol '_ZN11__cling_N577studentC1Ev' unresolved while linking function '_GLOBAL__sub_I_cling_module_13'!\n",
      "You are probably missing the definition of __cling_N57::student::student()\n",
      "Maybe you need to load the corresponding shared library?\n"
     ]
    }
   ],
   "source": [
    "// With only the declaration of the class, we cannot create objects because we do not have the code \n",
    "// for the functions. \n",
    "student s;"
   ]
  },
  {
   "cell_type": "markdown",
   "id": "fdbc5577",
   "metadata": {},
   "source": [
    "**To do**: discover the right way to use member function definitions in jupyter. This doesn't work."
   ]
  },
  {
   "cell_type": "code",
   "execution_count": 8,
   "id": "3a12fccb",
   "metadata": {},
   "outputs": [
    {
     "name": "stderr",
     "output_type": "stream",
     "text": [
      "In file included from input_line_1:1:\n",
      "In file included from /home/rbenkocz/miniconda3/bin/../lib/gcc/x86_64-conda-linux-gnu/9.3.0/../../../../x86_64-conda-linux-gnu/include/c++/9.3.0/new:40:\n",
      "In file included from /home/rbenkocz/miniconda3/bin/../lib/gcc/x86_64-conda-linux-gnu/9.3.0/../../../../x86_64-conda-linux-gnu/include/c++/9.3.0/exception:144:\n",
      "In file included from /home/rbenkocz/miniconda3/bin/../lib/gcc/x86_64-conda-linux-gnu/9.3.0/../../../../x86_64-conda-linux-gnu/include/c++/9.3.0/bits/nested_exception.h:40:\n",
      "In file included from /home/rbenkocz/miniconda3/bin/../lib/gcc/x86_64-conda-linux-gnu/9.3.0/../../../../x86_64-conda-linux-gnu/include/c++/9.3.0/bits/move.h:55:\n",
      "\u001b[1m/home/rbenkocz/miniconda3/bin/../lib/gcc/x86_64-conda-linux-gnu/9.3.0/../../../../x86_64-conda-linux-gnu/include/c++/9.3.0/type_traits:114:31: \u001b[0m\u001b[0;1;31merror: \u001b[0m\u001b[1mno member named 'value' in 'std::is_void<char const (&)[11]>'\u001b[0m\n",
      "    : public conditional<_B1::value, _B1, __or_<_B2, _B3, _Bn...>>::type\n",
      "\u001b[0;1;32m                         ~~~~~^\n",
      "\u001b[0m\u001b[1m/home/rbenkocz/miniconda3/bin/../lib/gcc/x86_64-conda-linux-gnu/9.3.0/../../../../x86_64-conda-linux-gnu/include/c++/9.3.0/type_traits:1306:19: \u001b[0m\u001b[0;1;30mnote: \u001b[0min instantiation of template class 'std::__or_<std::is_void<char const (&)[11]>,\n",
      "      std::is_function<std::basic_string_view<char, std::char_traits<char> > >,\n",
      "      std::is_array<std::basic_string_view<char, std::char_traits<char> > > >'\n",
      "      requested here\u001b[0m\n",
      "           bool = __or_<is_void<_From>, is_function<_To>,\n",
      "\u001b[0;1;32m                  ^\n",
      "\u001b[0m\u001b[1m/home/rbenkocz/miniconda3/bin/../lib/gcc/x86_64-conda-linux-gnu/9.3.0/../../../../x86_64-conda-linux-gnu/include/c++/9.3.0/type_traits:1336:14: \u001b[0m\u001b[0;1;30mnote: \u001b[0min instantiation of default argument for '__is_convertible_helper<char const\n",
      "      (&)[11], std::basic_string_view<char, std::char_traits<char> > >' required\n",
      "      here\u001b[0m\n",
      "    : public __is_convertible_helper<_From, _To>::type\n",
      "\u001b[0;1;32m             ^~~~~~~~~~~~~~~~~~~~~~~~~~~~~~~~~~~\n",
      "\u001b[0m\u001b[1m/home/rbenkocz/miniconda3/bin/../lib/gcc/x86_64-conda-linux-gnu/9.3.0/../../../../x86_64-conda-linux-gnu/include/c++/9.3.0/type_traits:137:26: \u001b[0m\u001b[0;1;30mnote: \u001b[0min instantiation of template class 'std::is_convertible<char const (&)[11],\n",
      "      std::basic_string_view<char, std::char_traits<char> > >' requested here\u001b[0m\n",
      "    : public conditional<_B1::value, __and_<_B2, _B3, _Bn...>, _B1>::type\n",
      "\u001b[0;1;32m                         ^\n",
      "\u001b[0m\u001b[1m/home/rbenkocz/miniconda3/bin/../lib/gcc/x86_64-conda-linux-gnu/9.3.0/../../../../x86_64-conda-linux-gnu/include/c++/9.3.0/bits/basic_string.h:118:4: \u001b[0m\u001b[0;1;30mnote: \u001b[0min instantiation of template class 'std::__and_<std::is_convertible<char const\n",
      "      (&)[11], std::basic_string_view<char, std::char_traits<char> > >,\n",
      "      std::__not_<std::is_convertible<char const (*)[11], const\n",
      "      std::__cxx11::basic_string<char> *> >,\n",
      "      std::__not_<std::is_convertible<char const (&)[11], const char *> > >'\n",
      "      requested here\u001b[0m\n",
      "          __and_<is_convertible<const _Tp&, __sv_type>,\n",
      "\u001b[0;1;32m          ^\n",
      "\u001b[0m\u001b[1m/home/rbenkocz/miniconda3/bin/../lib/gcc/x86_64-conda-linux-gnu/9.3.0/../../../../x86_64-conda-linux-gnu/include/c++/9.3.0/bits/basic_string.h:808:8: \u001b[0m\u001b[0;1;30mnote: \u001b[0min instantiation of template type alias '_If_sv' requested here\u001b[0m\n",
      "       _If_sv<_Tp, basic_string&>\n",
      "\u001b[0;1;32m       ^\n",
      "\u001b[0m\u001b[1minput_line_16:6:9: \u001b[0m\u001b[0;1;30mnote: \u001b[0mwhile substituting deduced template arguments into function template 'operator='\n",
      "      [with _Tp = char [11]]\u001b[0m\n",
      "    name=\"No student\";\n",
      "\u001b[0;1;32m        ^\n",
      "\u001b[0m\u001b[1minput_line_16:9:11: \u001b[0m\u001b[0;1;31merror: \u001b[0m\u001b[1mqualified reference to 'student' is a constructor name rather than a type in\n",
      "      this context\u001b[0m\n",
      " student::student(string n, double g) {\n",
      "\u001b[0;1;32m          ^\n",
      "\u001b[0m\u001b[1minput_line_16:9:19: \u001b[0m\u001b[0;1;31merror: \u001b[0m\u001b[1munexpected type name 'string': expected expression\u001b[0m\n",
      " student::student(string n, double g) {\n",
      "\u001b[0;1;32m                  ^\n",
      "\u001b[0m\u001b[1minput_line_16:9:36: \u001b[0m\u001b[0;1;31merror: \u001b[0m\u001b[1mexpected '(' for function-style cast or type construction\u001b[0m\n",
      " student::student(string n, double g) {\n",
      "\u001b[0;1;32m                            ~~~~~~ ^\n",
      "\u001b[0m"
     ]
    },
    {
     "ename": "Interpreter Error",
     "evalue": "",
     "output_type": "error",
     "traceback": [
      "Interpreter Error: "
     ]
    }
   ],
   "source": [
    "// Implementation file  student.cc\n",
    "// contains just the function code (no need to write the class student again, normally we include student.h)\n",
    "\n",
    "// default constructor\n",
    "student::student() {\n",
    "    gpa=4;\n",
    "    name=\"No student\";\n",
    "}\n",
    "\n",
    "student::student(string n, double g) {\n",
    "    gpa = g;\n",
    "    name = n;\n",
    "}\n",
    "\n",
    "void student::print() {\n",
    "    cout << name << \" has a GPA of \" << gpa << endl;\n",
    "}\n",
    "\n",
    "void student::input() {\n",
    "    getline(cin, name);\n",
    "    string g;\n",
    "    getline(cin, g);\n",
    "    gpa = stod(g);\n",
    "}"
   ]
  },
  {
   "cell_type": "code",
   "execution_count": null,
   "id": "663aa566",
   "metadata": {},
   "outputs": [],
   "source": []
  }
 ],
 "metadata": {
  "kernelspec": {
   "display_name": "C++17",
   "language": "C++17",
   "name": "xcpp17"
  },
  "language_info": {
   "codemirror_mode": "text/x-c++src",
   "file_extension": ".cpp",
   "mimetype": "text/x-c++src",
   "name": "c++",
   "version": "17"
  }
 },
 "nbformat": 4,
 "nbformat_minor": 5
}
