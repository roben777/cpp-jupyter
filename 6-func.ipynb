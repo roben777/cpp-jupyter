{
 "cells": [
  {
   "cell_type": "code",
   "execution_count": 1,
   "metadata": {},
   "outputs": [],
   "source": [
    "// setup cell\n",
    "#include <iostream>\n",
    "#include <string>\n",
    "#include <cmath>\n",
    "using namespace std;"
   ]
  },
  {
   "cell_type": "markdown",
   "metadata": {},
   "source": [
    "# User defined functions\n",
    "1. Function: machinery for performing computations? Input -> Calculations -> Result.<br>\n",
    "   **Example** fabs(-2) or absolute value from ```<cmath>```. \n",
    "   \n",
    "   Input -2 -> Calculations, if statement, etc -> Result 2\n",
    "   "
   ]
  },
  {
   "cell_type": "code",
   "execution_count": 2,
   "metadata": {},
   "outputs": [
    {
     "name": "stdout",
     "output_type": "stream",
     "text": [
      "2.5\n",
      "34.5\n"
     ]
    }
   ],
   "source": [
    "// EXAMPLE call library function fabs\n",
    "cout << fabs(-2.5) << endl;\n",
    "double x = 13.5;\n",
    "cout << 3*fabs(2-x) << endl;"
   ]
  },
  {
   "cell_type": "markdown",
   "metadata": {},
   "source": [
    "## Defining functions\n",
    "1. Input -> Calculations -> Result.\n",
    "\n",
    "   ![Anatomy of a function](imgs/function2.png)\n",
    "   \n",
    "   **Input**: parameter list (variable declarations separated by comma)\n",
    "   \n",
    "   **Calculations**: function body (block statement, {})\n",
    "   \n",
    "   **Result**: return type, return statement. OBS: a function in C++ may NOT return a result.\n",
    "   \n",
    "   Last but not least, **function name**. It is used when the function is *called* or executed."
   ]
  },
  {
   "cell_type": "code",
   "execution_count": 5,
   "metadata": {},
   "outputs": [],
   "source": [
    "// define the factorial function here\n",
    "double factorial(int x) {\n",
    "    double result = 1.0;\n",
    "    for (int i=2; i<=x; i++) {\n",
    "        result *= i;\n",
    "    }\n",
    "    return result;\n",
    "}"
   ]
  },
  {
   "cell_type": "markdown",
   "metadata": {},
   "source": [
    "## Calling functions and list of arguments\n",
    "\n",
    "**Function call and argument list**: function name followed by a list of values or expressions between () = function call. Simular to math notation. The list of values/expressions is the **argument list**. The argument list are the values for the parameters list. \n",
    "\n",
    "**Pass by value**: function arguments are **copied** into parameter variables when the function is called. Then the function body is executed. When the function terminates, the execution resumes from the point where the function was called. "
   ]
  },
  {
   "cell_type": "code",
   "execution_count": 6,
   "metadata": {},
   "outputs": [
    {
     "name": "stdout",
     "output_type": "stream",
     "text": [
      "24\n",
      "3.6288e+06\n",
      "1\n",
      "0.47619\n",
      "6.20448e+23\n"
     ]
    }
   ],
   "source": [
    "// Call factorial function here. Syntax similar to math\n",
    "cout << factorial(4) << endl; \n",
    "// value 4 is copied into x, body of the function is executed\n",
    "// upos executing \"return result;\" execution continues right after the call, \n",
    "// and the call evaluates to the expression in return statement\n",
    "cout << factorial(10) << endl;\n",
    "cout << factorial(0) << endl; // guess?\n",
    "cout << factorial(4) * 100 / factorial(7) << endl;\n",
    "cout << factorial(factorial(4)) << endl;"
   ]
  },
  {
   "cell_type": "markdown",
   "metadata": {},
   "source": [
    "### Scope of variables and functions\n",
    "\n",
    "Scope of a variable = region in source code where I can use the variable.\n",
    "\n",
    "1. Variables defined in a block statement (including a function body) are only available in the block statement (function). These are called *local variables*.\n",
    "\n",
    "2. Function parameters are available only for the body of the function. \n"
   ]
  },
  {
   "cell_type": "code",
   "execution_count": 2,
   "metadata": {},
   "outputs": [
    {
     "name": "stdout",
     "output_type": "stream",
     "text": [
      "2\n",
      "-3\n"
     ]
    }
   ],
   "source": [
    "// write a min function that returns the minimum of 2 integers given as arguments\n",
    "int minimum(int x, int y) {\n",
    "    // use x and y here, but not outside the body of minimum\n",
    "    if (x < y) {\n",
    "        return x;\n",
    "    } else {\n",
    "        return y;\n",
    "    }\n",
    "}\n",
    "\n",
    "// cout << x;  // produces a compiler error\n",
    "// test the function\n",
    "cout << minimum(2, 5) << endl;\n",
    "cout << minimum(7, -3) << endl;"
   ]
  },
  {
   "cell_type": "code",
   "execution_count": 3,
   "metadata": {},
   "outputs": [
    {
     "name": "stdout",
     "output_type": "stream",
     "text": [
      "2\n",
      "20\n"
     ]
    }
   ],
   "source": [
    "// maximum\n",
    "int maximum(int x, int y) {\n",
    "    if (x > y) {\n",
    "        return x;\n",
    "    } else {\n",
    "        return y;\n",
    "    }\n",
    "}\n",
    "cout << maximum(2, -3) << endl;\n",
    "cout << maximum(10, 20) << endl;"
   ]
  },
  {
   "cell_type": "code",
   "execution_count": 3,
   "metadata": {},
   "outputs": [
    {
     "name": "stdout",
     "output_type": "stream",
     "text": [
      "1\n"
     ]
    }
   ],
   "source": [
    "// write a min function that returns the minimum of 3 integers given as arguments\n",
    "int minimum(int x, int y, int z) {\n",
    "    int min = x;\n",
    "    if (y < min) {\n",
    "        min = y;\n",
    "    }\n",
    "    if (z < min) {\n",
    "        min = z;\n",
    "    }\n",
    "    return min;\n",
    "}\n",
    "\n",
    "// call the min function here\n",
    "cout << minimum(4,1,7) << endl;\n",
    "\n",
    "// attempting to use the function parameters or the local variables of the function, \n",
    "//   as regular variables outside of the function produces an error\n",
    "// cout << \"x: \" << x << endl;"
   ]
  },
  {
   "cell_type": "markdown",
   "metadata": {},
   "source": [
    "## Observations\n",
    "\n",
    "1. Return value is optional. Use **void** for type if return value is absent; in that case, you may use statement ```return;``` without a return expression to terminate the function.\n",
    "   \n",
    "2. main() is a user defined function that returns an integer. **Input**: usually empty, but may include *command line arguments* used in standalone programs. **Calculations**: your program. **Result**: usually 0 (convention in Unix: standalone programs return an integer; if 0 it means program terminated normally; if non-zero, it signals an error). \n",
    "\n",
    "3. Define functions outside other functions. A function canot be defined in the body of another function."
   ]
  },
  {
   "cell_type": "code",
   "execution_count": 4,
   "metadata": {},
   "outputs": [
    {
     "name": "stdout",
     "output_type": "stream",
     "text": [
      "Hello world!\n",
      "Hello world!\n"
     ]
    }
   ],
   "source": [
    "// example void function: Write a func tion that outputs hello world. (Input is empty)\n",
    "void hello() {\n",
    "    cout << \"Hello world!\" << endl;\n",
    "}\n",
    "\n",
    "hello();\n",
    "hello();"
   ]
  },
  {
   "cell_type": "markdown",
   "metadata": {},
   "source": [
    "## Why functions\n",
    "1. Code reuse: define pieces of code that can be executed many times. \n",
    "2. Improve readability of code; simplify development by decomposing a complex task into sub-tasks.\n",
    "\n",
    "OBSERVATION: Write code for functions that strictly fulfill the role of the function, thus make it as general as possible. Do not write output statements for example. These are best included in function ```main()```. Example: do not output the value of factorial in function ```factorial()```. It reduces the applicability of the function, like using factorials to compute combinations as shown below. Exceptions: functions that deal explicitly with input/output.\n",
    "\n",
    "**Example 1**: Combinations. In how many ways can we select $k$ distinguishable objects from a set of $n$ objects, $C(n,k)$? For ex, how many hands of 5 cards from a deck of 52? Formula: $C(n,k) = \\frac{n!}{k! (n-k)!}$."
   ]
  },
  {
   "cell_type": "code",
   "execution_count": 6,
   "metadata": {},
   "outputs": [
    {
     "name": "stdout",
     "output_type": "stream",
     "text": [
      "7 choose 3 is 35\n"
     ]
    }
   ],
   "source": [
    "// decide to return double because factorials are large numbers\n",
    "// purpose: return the number of combinations of k out of n elements\n",
    "// n = size of the set\n",
    "// k = size of the selection\n",
    "double combinations(int n, int k) {\n",
    "    return factorial(n) / (factorial(k) * factorial(n-k));\n",
    "}\n",
    "\n",
    "cout << \"7 choose 3 is \" << combinations(7,3) << endl;"
   ]
  },
  {
   "cell_type": "markdown",
   "metadata": {},
   "source": [
    "**Example 2**: GCD (simple *recursive* function. A function is *recursive* if it calls itself. We must be careful to **avoid infinite calls**.\n",
    "\n",
    "See GCD code in zybooks. But why does that code work? Recall CPSC 1820: suppose $a \\ge b$; $a = b q + r$ (integer division). Then GCD(a,b) = GCD(b,r). This observation reduces the original problem GCD(a,b) to a simpler one GCD(b,r) with smaller values. Define **maximum** and **minimum** functions to keep the code compact and readable. (Note: ```<cmath>``` has max and min functions that we can use)."
   ]
  },
  {
   "cell_type": "code",
   "execution_count": 4,
   "metadata": {},
   "outputs": [],
   "source": [
    "// make sure b != 0\n",
    "int gcd(int a, int b) {\n",
    "    // make sure a is the largest\n",
    "    if (b > a) {\n",
    "        // swap the values\n",
    "        int temp = a;\n",
    "        a = b;\n",
    "        b = temp;\n",
    "    }\n",
    "    \n",
    "    // now a is the largest of the values.\n",
    "    // simple case (base case)! if a is a multiple of b\n",
    "    if (a % b == 0) {\n",
    "        return b;  // recall that, upon executing return, the function terminates\n",
    "    }\n",
    "    \n",
    "    return gcd(b, a % b);\n",
    "}"
   ]
  },
  {
   "cell_type": "code",
   "execution_count": 7,
   "metadata": {},
   "outputs": [
    {
     "name": "stdout",
     "output_type": "stream",
     "text": [
      "2\n",
      "2\n",
      "12\n"
     ]
    }
   ],
   "source": [
    "cout << gcd(6,4) << endl;\n",
    "cout << gcd(4,6) << endl;\n",
    "cout << gcd(12, 24) << endl;"
   ]
  },
  {
   "cell_type": "markdown",
   "metadata": {},
   "source": [
    "What is going on here? How can we call the same function from within its body?\n",
    "Ex: \n",
    "```gcd(6,4) -> stack (a=6, b=4)\n",
    "gcd(4,2) -> stack (a=4, b=2) ** hit the base case ** ```"
   ]
  },
  {
   "cell_type": "markdown",
   "metadata": {},
   "source": [
    "**Example 3**: Prompt to enter integers within a range; keep prompting until correct value is entered. "
   ]
  },
  {
   "cell_type": "code",
   "execution_count": null,
   "metadata": {},
   "outputs": [],
   "source": []
  },
  {
   "cell_type": "markdown",
   "metadata": {},
   "source": [
    "## Pass by reference \n",
    "\n",
    "C++ functions can only return one item. How do we write an input function that prompts the user to enter coordinates, for example? We can use it in the battleship game.\n",
    "\n",
    "**Solution 1:** use reference variables (output parameters).\n",
    "\n",
    "Recall reference variables:"
   ]
  },
  {
   "cell_type": "code",
   "execution_count": 7,
   "metadata": {},
   "outputs": [
    {
     "name": "stdout",
     "output_type": "stream",
     "text": [
      "x: 3\n",
      "x: 10\n"
     ]
    }
   ],
   "source": [
    "int x = 3;\n",
    "int &y = x; // y refers to x (it is one with x)\n",
    "cout << \"x: \" << x << endl;\n",
    "y = 10;\n",
    "cout << \"x: \" << x << endl;"
   ]
  },
  {
   "cell_type": "code",
   "execution_count": 8,
   "metadata": {},
   "outputs": [
    {
     "name": "stdout",
     "output_type": "stream",
     "text": [
      "x: 3\n",
      "x: 3\n"
     ]
    }
   ],
   "source": [
    "int x = 3;\n",
    "int y = x; // y is separate from x. It has ther same value, but separate lives.\n",
    "cout << \"x: \" << x << endl;\n",
    "y = 10;\n",
    "cout << \"x: \" << x << endl;"
   ]
  },
  {
   "cell_type": "markdown",
   "metadata": {},
   "source": [
    "**Example 2:** Write a function that receives as input the side length of a square and calculates its area and perimeter."
   ]
  },
  {
   "cell_type": "code",
   "execution_count": 2,
   "metadata": {},
   "outputs": [
    {
     "name": "stdout",
     "output_type": "stream",
     "text": [
      "Area is 9 Perimeter is 12\n"
     ]
    }
   ],
   "source": [
    "// One solution is to use reference variables. Pass return values into as many parameters \n",
    "// as needed.\n",
    "// calculates area and perimeter\n",
    "// x: side length\n",
    "// area: output parameter. Area is returned in parameter area\n",
    "// perimeter: output. The perimeter of the square is returned in perimeter\n",
    "void squareCalc(int x, int & area, int & perimeter) {\n",
    "    area = x*x;\n",
    "    perimeter = 4*x;\n",
    "}\n",
    "\n",
    "// call function\n",
    "int a = 0, p = 0;  // area and perimeter variables.\n",
    "squareCalc(3, a, p);  // variables a and p are initialized by the function.\n",
    "cout << \"Area is \" << a << \" Perimeter is \" << p << endl;"
   ]
  },
  {
   "cell_type": "markdown",
   "metadata": {},
   "source": [
    "## Function name overloading\n",
    "We can define several functions with the same name, as long as the parameter lists are different (and the compiler can decide which function to call based on the list of arguments). How different should the parameter lists be?\n",
    "1. Different number of parameters.\n",
    "2. Different types of parameters.\n",
    "3. Different order of parameters. Parameters must be distinguished by type."
   ]
  },
  {
   "cell_type": "code",
   "execution_count": 3,
   "metadata": {},
   "outputs": [],
   "source": [
    "// Let's define maximum function\n",
    "int maximum(int a, int b) {\n",
    "    cout << \"max on ints\" << endl;\n",
    "    if (a >= b) {\n",
    "        return a;\n",
    "    }\n",
    "    else {\n",
    "        return b;\n",
    "    }\n",
    "}\n"
   ]
  },
  {
   "cell_type": "code",
   "execution_count": 4,
   "metadata": {},
   "outputs": [],
   "source": [
    "double maximum(double a, double b) {\n",
    "    cout << \"max on doubles\" << endl;\n",
    "    if (a >= b) {\n",
    "        return a;\n",
    "    }\n",
    "    else {\n",
    "        return b;\n",
    "    }    \n",
    "}"
   ]
  },
  {
   "cell_type": "code",
   "execution_count": 5,
   "metadata": {},
   "outputs": [
    {
     "name": "stdout",
     "output_type": "stream",
     "text": [
      "max on ints\n",
      "14\n",
      "max on ints\n",
      "4\n",
      "max on doubles\n",
      "9.1"
     ]
    }
   ],
   "source": [
    "cout << maximum(14,9) << endl;\n",
    "cout << maximum(-1,4) << endl;\n",
    "cout << maximum(2.5, 9.1);"
   ]
  },
  {
   "cell_type": "code",
   "execution_count": null,
   "metadata": {},
   "outputs": [],
   "source": []
  }
 ],
 "metadata": {
  "kernelspec": {
   "display_name": "C++17",
   "language": "C++17",
   "name": "xcpp17"
  },
  "language_info": {
   "codemirror_mode": "text/x-c++src",
   "file_extension": ".cpp",
   "mimetype": "text/x-c++src",
   "name": "c++",
   "version": "17"
  }
 },
 "nbformat": 4,
 "nbformat_minor": 4
}
