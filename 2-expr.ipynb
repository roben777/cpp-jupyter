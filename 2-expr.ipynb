{
 "cells": [
  {
   "cell_type": "markdown",
   "metadata": {},
   "source": [
    "# Week 2: variables and expressions\n",
    "Reading: Chapter 2 in zyBook \"Programming in C++\" by Vahid and Lysecky."
   ]
  },
  {
   "cell_type": "code",
   "execution_count": 1,
   "metadata": {},
   "outputs": [],
   "source": [
    "// Setup cell\n",
    "#include <iostream>\n",
    "#include <iomanip>\n",
    "using namespace std;"
   ]
  },
  {
   "cell_type": "markdown",
   "metadata": {},
   "source": [
    "Define variables: \n",
    "\n",
    "Why do we need variables? \n",
    "1. Process input.\n",
    "2. When we work with information that needs to change.\n",
    "\n",
    "Variable life cycle: declare, initialize, use/modify.\n"
   ]
  },
  {
   "cell_type": "markdown",
   "metadata": {},
   "source": [
    "## Example\n",
    "Zorg owns a circular parcel of land with radius 25 m. How much land does he own? Output the area in m$^2$. Formula: $A=\\pi r^2$."
   ]
  },
  {
   "cell_type": "code",
   "execution_count": 2,
   "metadata": {},
   "outputs": [
    {
     "name": "stdout",
     "output_type": "stream",
     "text": [
      "1962.5\n"
     ]
    }
   ],
   "source": [
    "// use 3.14 for pi\n",
    "cout << (3.14*25*25) << endl;"
   ]
  },
  {
   "cell_type": "markdown",
   "metadata": {},
   "source": [
    "Zorg's sister, Zerga, also owns a parcel of land with radius 75 m. How much land does she own?\n",
    "\n",
    "The calculation is the same, but with different data. Make it general. The radius of the lot changes, so we will use a variable for it.\n",
    "\n",
    "**Declare** variable radius: ```type variable_name;``` <br>\n",
    "**Initialize** radius: ```radius = expression;``` (this is called assignment) OR ```cin >> radius;``` (input) <br>\n",
    "**Use** radius: simply write expressions using ```radius``` as argument, as many times as needed."
   ]
  },
  {
   "cell_type": "code",
   "execution_count": 3,
   "metadata": {},
   "outputs": [
    {
     "name": "stdout",
     "output_type": "stream",
     "text": [
      "Please enter the radius of the lot (in m)\n",
      "25\n"
     ]
    }
   ],
   "source": [
    "// READ INPUT\n",
    "// what type of variable to use? int, float, double?\n",
    "long double radius;  // store fractional values, size (in memory) is 128 bits.\n",
    "// assignment or cin?\n",
    "cout << \"Please enter the radius of the lot (in m)\" << endl;\n",
    "cin >> radius;"
   ]
  },
  {
   "cell_type": "code",
   "execution_count": 4,
   "metadata": {},
   "outputs": [
    {
     "name": "stdout",
     "output_type": "stream",
     "text": [
      "The area is 1962.5"
     ]
    }
   ],
   "source": [
    "cout << \"The area is \" << 3.14*radius*radius;"
   ]
  },
  {
   "cell_type": "markdown",
   "metadata": {},
   "source": [
    "## Variables and named constants\n",
    "A good programming habit is to use named constants instead of literals (values) in expressions. This improves the readability of your code (how easy can the source code be understood by programmers). It does not change the behaviour of the program.\n",
    "\n",
    "For example: we can use named constant PI for 3.14 in the disc area formula. This improves the clarity of the expression. The programmer knows we use constant $\\pi$ and not some value 3.14 that could represent something else.\n",
    "\n",
    "**Named constants**: variables declared with modifier ```const```. These variables **must** be initialized at declaration. ```const``` means the variable cannot be modified once it is created, so assignment after creation is not allowed.\n",
    "\n",
    "**Naming convention**: the names of constant variables are written in uppercase letters."
   ]
  },
  {
   "cell_type": "code",
   "execution_count": 5,
   "metadata": {},
   "outputs": [],
   "source": [
    "// declaration  with initialization\n",
    "const double PI=3.1415927;"
   ]
  },
  {
   "cell_type": "code",
   "execution_count": null,
   "metadata": {},
   "outputs": [],
   "source": [
    "// try to change PI in code\n",
    "PI=0;"
   ]
  },
  {
   "cell_type": "markdown",
   "metadata": {},
   "source": [
    "Let us rewrite the ouptut of the area for the circular parcel, using now the named constant PI:"
   ]
  },
  {
   "cell_type": "code",
   "execution_count": 6,
   "metadata": {},
   "outputs": [
    {
     "name": "stdout",
     "output_type": "stream",
     "text": [
      "The area is 1963.5"
     ]
    }
   ],
   "source": [
    "cout << \"The area is \" << PI*radius*radius;"
   ]
  },
  {
   "cell_type": "markdown",
   "metadata": {},
   "source": [
    "**Example (cont).** Landowners must pay taxes annually. These are calculated at \\\\$0.5 per one m$^2$ of land owned. Calculate Zorg's tax. Output as ```\"Zorg's tax is $x\"```."
   ]
  },
  {
   "cell_type": "code",
   "execution_count": 7,
   "metadata": {},
   "outputs": [
    {
     "name": "stdout",
     "output_type": "stream",
     "text": [
      "Zorg's tax is $981.75"
     ]
    }
   ],
   "source": [
    "radius = 25; // Zorg\n",
    "cout << \"Zorg's tax is $\" << fixed << setprecision(2) << 0.5 * PI * radius * radius; "
   ]
  },
  {
   "cell_type": "markdown",
   "metadata": {},
   "source": [
    "Sisters have a different tax rate. Having to put up with their brothers, sisters' rate is \\\\$0.4. Calculate Zerga's tax. Since the tax rate changes for sisters, the tax rate is a good candidate for a variable."
   ]
  },
  {
   "cell_type": "code",
   "execution_count": null,
   "metadata": {},
   "outputs": [],
   "source": [
    "float tax_rate = 0.4;\n",
    "long double radius = 75;\n",
    "cout << \"Zerga's tax is $\" << fixed << setprecision(2) << tax_rate * PI * radius * radius;"
   ]
  },
  {
   "cell_type": "markdown",
   "metadata": {},
   "source": [
    "Zorg purchases another plot of land. It is rectangular this time. Calculate Zorg's tax now. Whatr information do I need in this case? This may indicate what variables we should use in the code. The name of the variable should indicate what the variable represents. We only need to decide the type. I used double before. I can stick with that  decision, or I can say that all my dimenions are whole numbers, and I could use int."
   ]
  },
  {
   "cell_type": "code",
   "execution_count": 10,
   "metadata": {},
   "outputs": [
    {
     "name": "stdout",
     "output_type": "stream",
     "text": [
      "Enter the width and height 100 235\n",
      "Zorg's tax is $11750.00"
     ]
    }
   ],
   "source": [
    "double width, length; // we will input these values\n",
    "// prompt the user\n",
    "cout << \"Enter the width and length \";\n",
    "cin >> width >> length;\n",
    "double tax_rate = 0.5;\n",
    "cout << \"Zorg's tax is $\" << tax_rate * width * length;"
   ]
  },
  {
   "cell_type": "markdown",
   "metadata": {},
   "source": [
    "## Assignment with the same variable on both sides (accumulation)\n",
    "Calculate the total amount of tax owed by Zorg's family. \n",
    "Strategy?\n",
    "1. Create tax variable for each family member and compute the sum at the end.\n",
    "2. Instead of three variables, one for the tax for each plot of land, we can use one variable, for the total tax. We will calculate Zorg's tax for lot 1, assign it to the total tax; then, calculate Zorg's tax for lot 2, **add it** (accumulate the tax into the variable) to the total."
   ]
  },
  {
   "cell_type": "code",
   "execution_count": 18,
   "metadata": {},
   "outputs": [],
   "source": [
    "// declare total tax variable\n",
    "long double radius = 25;  // not const, they need to change\n",
    "long double tax_rate = 0.5;\n",
    "long double total_tax = tax_rate * PI * radius * radius;  \n",
    "// calculate tax for lot 2 (rectangular)\n",
    "long double width=100, length=235;\n",
    "// area length x width\n",
    "total_tax = tax_rate*length*width + total_tax;\n",
    "// Zerga's lot\n",
    "// change the tax rate\n",
    "tax_rate = 0.4;\n",
    "// chage the dimension of the lot (radius)\n",
    "radius = 75;\n",
    "// accumulate (update the total)\n",
    "// total_tax = tax_rate * PI * radius * radius + total_tax;\n",
    "// shortcut statement\n",
    "total_tax += tax_rate * PI * radius * radius;"
   ]
  },
  {
   "cell_type": "code",
   "execution_count": 19,
   "metadata": {},
   "outputs": [
    {
     "name": "stdout",
     "output_type": "stream",
     "text": [
      "Total tax is $19800.33"
     ]
    }
   ],
   "source": [
    "cout << \"Total tax is $\" << total_tax;"
   ]
  },
  {
   "cell_type": "markdown",
   "metadata": {},
   "source": [
    "## Type conversion with ```static_cast```; integer and fractional division\n",
    "**Attention:** Division ```/``` evaluates to the quotient from integer division if the arguments are ```int``` expressions. If arguments are ```float``` or ```double```, then fractional division is performed.\n",
    "\n",
    "When conversion is needed most often:\n",
    "1. Convert from float/double to int to drop the decimal part of the value.\n",
    "2. Convert from int to double/float "
   ]
  },
  {
   "cell_type": "code",
   "execution_count": 5,
   "metadata": {},
   "outputs": [
    {
     "name": "stdout",
     "output_type": "stream",
     "text": [
      "Quotient 0\n",
      "Remainder 1"
     ]
    }
   ],
   "source": [
    "cout << \"Quotient \" << 1/2 << endl;  // what is the value?\n",
    "// answer, 0 (quotient)\n",
    "// What is the remainder of 1/2?\n",
    "cout << \"Remainder \" << 1 % 2;"
   ]
  },
  {
   "cell_type": "markdown",
   "metadata": {},
   "source": [
    "To obtain fractional value $1/2 = 0.5$ we must convert the arguments to float or double."
   ]
  },
  {
   "cell_type": "code",
   "execution_count": 8,
   "metadata": {},
   "outputs": [
    {
     "name": "stdout",
     "output_type": "stream",
     "text": [
      "Fraction 1/2 is 0.5\n",
      "Fraction 1/2 is 0.5\n"
     ]
    }
   ],
   "source": [
    "cout << \"Fraction 1/2 is \" << static_cast<double>(1)/2 << endl;\n",
    "cout << \"Fraction 1/2 is \" << 1/2.0 << endl;"
   ]
  },
  {
   "cell_type": "markdown",
   "metadata": {},
   "source": [
    "**Exercise**: The local government is eliminating cents. Output Zorg's tax by dropping the fractional part. For example, if the tax owing is \\\\$25.72, output only \\\\$25."
   ]
  },
  {
   "cell_type": "code",
   "execution_count": 9,
   "metadata": {},
   "outputs": [
    {
     "name": "stdout",
     "output_type": "stream",
     "text": [
      "The value is 25\n"
     ]
    }
   ],
   "source": [
    "// warmup. Convert 25.72 to an integer by dropping the fractional part.\n",
    "cout << \"The value is \" << static_cast<int>(25.72) << endl;"
   ]
  },
  {
   "cell_type": "markdown",
   "metadata": {},
   "source": [
    "In an even wackier move, the government accepts only amounts that are multiple of \\\\$10. For example, if the tax owing is \\\\$237.81, then the tax payable is \\\\$230. Calculate the tax payable in this case.\n",
    "\n",
    "Strategy:"
   ]
  },
  {
   "cell_type": "code",
   "execution_count": null,
   "metadata": {},
   "outputs": [],
   "source": []
  },
  {
   "cell_type": "markdown",
   "metadata": {},
   "source": [
    "**Exercise**: given a floating point value stored in variable named *x*, calculate and output *x* rounded to the nearest integer. Do not use branching (if statements), use only arithmetic expressions."
   ]
  },
  {
   "cell_type": "code",
   "execution_count": 11,
   "metadata": {},
   "outputs": [
    {
     "name": "stdout",
     "output_type": "stream",
     "text": [
      "26"
     ]
    }
   ],
   "source": [
    "// not actually giving us the value of 26, but the output\n",
    "cout << fixed << setprecision(0) << 25.72;\n",
    "// now, write an expression that has the value 26 if you are given 25.72 "
   ]
  },
  {
   "cell_type": "markdown",
   "metadata": {},
   "source": [
    "## Strings, input/output\n",
    "Operations (concatenation, etc), later on, once we know about arrays.\n",
    "Review: how to we declare a string variable (holds text)?\n",
    "\n",
    "Assignment: use string literal on the right side of =.\n",
    "\n",
    "Input with >>. The space character is a boundary between data. \n",
    "\n",
    "If you need space as part of data, read a string with getline"
   ]
  },
  {
   "cell_type": "code",
   "execution_count": 20,
   "metadata": {},
   "outputs": [],
   "source": [
    "#include <string>"
   ]
  },
  {
   "cell_type": "code",
   "execution_count": 33,
   "metadata": {},
   "outputs": [
    {
     "name": "stdout",
     "output_type": "stream",
     "text": [
      "Mary Joe\n",
      "Mary and Joe"
     ]
    },
    {
     "data": {
      "text/plain": [
       "@0x7f5cb9fb7b60"
      ]
     },
     "execution_count": 33,
     "metadata": {},
     "output_type": "execute_result"
    }
   ],
   "source": [
    "// declare a variable called name that can hold strings\n",
    "string name, middle_name;\n",
    "// initialize strig variables? cin/assignment/declare&intialize\n",
    "name = \"John\"; // double quotes for string literal.\n",
    "\n",
    "cin >> name >> middle_name;\n",
    "\n",
    "cout << name << \" and \" << middle_name ;  // space is a \"separator\" for data. To read Sue, we will need another cin >>"
   ]
  },
  {
   "cell_type": "code",
   "execution_count": 32,
   "metadata": {},
   "outputs": [
    {
     "name": "stdout",
     "output_type": "stream",
     "text": [
      "Mary Joe\n",
      "Mary Joe"
     ]
    }
   ],
   "source": [
    "// read Mary Sue in name:\n",
    "getline(cin, name); \n",
    "\n",
    "cout << name;"
   ]
  },
  {
   "cell_type": "code",
   "execution_count": 34,
   "metadata": {},
   "outputs": [
    {
     "name": "stdout",
     "output_type": "stream",
     "text": [
      "Mary Sue is smart."
     ]
    }
   ],
   "source": [
    "name = \"Mary Sue is smart.\";\n",
    "cout << name;"
   ]
  },
  {
   "cell_type": "markdown",
   "metadata": {},
   "source": [
    "## Math functions\n",
    "1. Exponent, $x^y$. ```pow(x, y)```\n",
    "2. Absolute value, $|x|$. ```fabs(x)```\n",
    "3. Square root, $\\sqrt{x}$. ```sqrt(x)```\n",
    "\n",
    "Note: must ```#include <cmath>```"
   ]
  },
  {
   "cell_type": "code",
   "execution_count": 10,
   "metadata": {},
   "outputs": [
    {
     "name": "stdout",
     "output_type": "stream",
     "text": [
      "26"
     ]
    }
   ],
   "source": [
    "#include <cmath>\n",
    "cout << ceil(25.33);"
   ]
  },
  {
   "cell_type": "markdown",
   "metadata": {},
   "source": [
    "## Recap\n",
    "1. Lifecycle of variables: declare, initialize, use.\n",
    "2. Declaration: ``` type name;```\n",
    "3. Types: bool, float, double (fractional), string (```#include <string>```), int, char, byte.\n",
    "4. Type modifier: unsigned, long. These define specific version of the main type, for example longer versions for double and int."
   ]
  },
  {
   "cell_type": "code",
   "execution_count": null,
   "metadata": {},
   "outputs": [],
   "source": [
    "byte b; \n",
    "long int b2;\n",
    "long double b3;"
   ]
  },
  {
   "cell_type": "markdown",
   "metadata": {},
   "source": [
    "**What is type?** Type tells us and the compiler what (1) range of values can be stored in variables and (2) what operations can be performed on the variables. For example, ```/``` evaluates differently wether the arguments are integer or fractional, ```+``` is addition for numerical arguments, and concatenation for strings."
   ]
  },
  {
   "cell_type": "code",
   "execution_count": null,
   "metadata": {},
   "outputs": [],
   "source": []
  }
 ],
 "metadata": {
  "kernelspec": {
   "display_name": "C++17",
   "language": "C++17",
   "name": "xcpp17"
  },
  "language_info": {
   "codemirror_mode": "text/x-c++src",
   "file_extension": ".cpp",
   "mimetype": "text/x-c++src",
   "name": "c++",
   "version": "17"
  }
 },
 "nbformat": 4,
 "nbformat_minor": 4
}
